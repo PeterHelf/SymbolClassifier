{
 "cells": [
  {
   "cell_type": "code",
   "execution_count": 87,
   "id": "9ad1ffec",
   "metadata": {
    "ExecuteTime": {
     "end_time": "2023-05-10T14:38:23.755900700Z",
     "start_time": "2023-05-10T14:38:23.738894300Z"
    }
   },
   "outputs": [],
   "source": [
    "import tensorflow as tf\n",
    "import numpy as np\n",
    "import pandas as pd\n",
    "import matplotlib.pyplot as plt\n",
    "from sklearn.model_selection import train_test_split\n",
    "from keras.models import Sequential\n",
    "from keras.layers import Dense, Conv1D\n",
    "from keras.optimizers import SGD\n",
    "from numpy.random import uniform\n",
    "import keras\n",
    "from tensorflow.keras import layers"
   ]
  },
  {
   "cell_type": "code",
   "execution_count": 88,
   "id": "ff555cc1",
   "metadata": {
    "ExecuteTime": {
     "end_time": "2023-05-10T14:38:24.198132700Z",
     "start_time": "2023-05-10T14:38:24.186134100Z"
    }
   },
   "outputs": [],
   "source": [
    "def generate_mixed_shape(shape1, shape2, shape3, shape4):\n",
    "    shape = []\n",
    "    shape.extend(shape1[:15].tolist())\n",
    "    shape.extend(shape2[15:30].tolist())\n",
    "    shape.extend(shape3[30:45].tolist())\n",
    "    shape.extend(shape4[45:60].tolist())\n",
    "    return pd.DataFrame([shape])"
   ]
  },
  {
   "cell_type": "code",
   "execution_count": 89,
   "id": "ad096329",
   "metadata": {
    "ExecuteTime": {
     "end_time": "2023-05-10T14:38:24.724867400Z",
     "start_time": "2023-05-10T14:38:24.706868Z"
    }
   },
   "outputs": [],
   "source": [
    "def generate_noisy_shape(shape):\n",
    "    noisyShape = []\n",
    "    for val in shape:\n",
    "        noisyShape.append(val + uniform(-0.3, 0.3))\n",
    "    return pd.DataFrame([noisyShape])"
   ]
  },
  {
   "cell_type": "code",
   "execution_count": 90,
   "id": "7c64b0a1",
   "metadata": {
    "ExecuteTime": {
     "end_time": "2023-05-10T14:38:25.909120100Z",
     "start_time": "2023-05-10T14:38:25.319110200Z"
    }
   },
   "outputs": [],
   "source": [
    "symbol_data = pd.read_csv(\"data/dataset1_fixed.csv\", header=None)\n",
    "X = symbol_data.iloc[:, :-1]\n",
    "Y = symbol_data.iloc[:,-1:]\n",
    "Y = Y.replace(\"Time\", 0)\n",
    "Y = Y.replace(\"Wind\", 1)\n",
    "Y = Y.replace(\"Fire\", 2)\n",
    "Y = Y.replace(\"Earth\", 3)\n",
    "Y = Y.replace(\"Water\", 4)\n",
    "Y = Y.replace(\"Lightning\", 5)\n",
    "\n",
    "for i in range(100):\n",
    "    random_symbols = X.sample(n=4)\n",
    "    X = pd.concat([X, generate_mixed_shape(random_symbols.iloc[0], random_symbols.iloc[1], random_symbols.iloc[2], random_symbols.iloc[3])])\n",
    "    Y = pd.concat([Y, pd.DataFrame([6], columns =[60])])\n",
    " \n",
    "for i in range(100):\n",
    "    random_symbol = X.sample(n=1)\n",
    "    X = pd.concat([X, pd.DataFrame(generate_noisy_shape(random_symbol.iloc[0]))])\n",
    "    Y = pd.concat([Y, pd.DataFrame([6], columns =[60])])\n",
    "\n",
    "x_train, x_test, y_train, y_test = train_test_split(np.array(X), Y, test_size=0.20)\n",
    "\n",
    "\n",
    "y_test = y_test.values.flatten().astype(\"float64\")\n",
    "y_train = y_train.values.flatten().astype(\"float64\")"
   ]
  },
  {
   "cell_type": "code",
   "execution_count": 91,
   "id": "c6b0492f",
   "metadata": {
    "ExecuteTime": {
     "end_time": "2023-05-10T14:38:26.407980100Z",
     "start_time": "2023-05-10T14:38:26.381971300Z"
    }
   },
   "outputs": [],
   "source": [
    "x_train_3d = [np.array(x_train[i]).reshape(-1, 3) for i in range(len(x_train))]\n",
    "x_test_3d = [np.array(x_test[i]).reshape(-1, 3) for i in range(len(x_test))]\n",
    "\n",
    "x_train_3d = tf.stack(x_train_3d)\n",
    "x_test_3d = tf.stack(x_test_3d)"
   ]
  },
  {
   "cell_type": "code",
   "execution_count": 92,
   "id": "c4f6a9c7",
   "metadata": {
    "scrolled": true,
    "ExecuteTime": {
     "end_time": "2023-05-10T14:38:26.895154600Z",
     "start_time": "2023-05-10T14:38:26.873155400Z"
    }
   },
   "outputs": [
    {
     "name": "stdout",
     "output_type": "stream",
     "text": [
      "tf.Tensor(\n",
      "[[[4.742373e-01 8.367742e-01 7.813451e-04]\n",
      "  [3.473052e-01 6.967357e-01 1.096882e-03]\n",
      "  [2.274754e-01 5.635937e-01 1.273823e-03]\n",
      "  ...\n",
      "  [6.520981e-01 9.249974e-01 2.503306e-04]\n",
      "  [8.851222e-01 8.884290e-01 9.682045e-05]\n",
      "  [9.481151e-01 8.838500e-01 1.751080e-05]]\n",
      "\n",
      " [[2.214500e-01 8.557274e-01 0.000000e+00]\n",
      "  [3.446979e-01 8.169086e-01 3.821915e-04]\n",
      "  [4.435306e-01 7.472460e-01 7.752517e-04]\n",
      "  ...\n",
      "  [4.876755e-01 1.000000e+00 1.968734e-04]\n",
      "  [4.876755e-01 1.000000e+00 1.968734e-04]\n",
      "  [4.876755e-01 1.000000e+00 1.968734e-04]]\n",
      "\n",
      " [[2.069637e-01 5.783117e-01 6.819833e-04]\n",
      "  [2.006461e-01 4.336390e-01 9.836258e-04]\n",
      "  [1.753646e-01 2.930146e-01 1.155749e-03]\n",
      "  ...\n",
      "  [1.680775e-01 5.904664e-01 3.522003e-04]\n",
      "  [0.000000e+00 5.247798e-01 2.765947e-04]\n",
      "  [0.000000e+00 5.247798e-01 2.765947e-04]]\n",
      "\n",
      " ...\n",
      "\n",
      " [[0.000000e+00 0.000000e+00 5.369184e-04]\n",
      "  [3.286989e-02 1.137921e-01 4.435014e-04]\n",
      "  [1.021256e-01 2.176252e-01 3.813094e-04]\n",
      "  ...\n",
      "  [8.050801e-01 0.000000e+00 1.301448e-03]\n",
      "  [8.050801e-01 0.000000e+00 1.301448e-03]\n",
      "  [8.050801e-01 0.000000e+00 1.301448e-03]]\n",
      "\n",
      " [[1.139499e-01 8.461455e-01 3.090288e-04]\n",
      "  [8.135646e-02 6.806359e-01 6.858596e-04]\n",
      "  [8.375232e-02 5.103240e-01 9.571066e-04]\n",
      "  ...\n",
      "  [1.794023e-01 8.915814e-01 1.144765e-04]\n",
      "  [0.000000e+00 8.090913e-01 0.000000e+00]\n",
      "  [0.000000e+00 8.090913e-01 0.000000e+00]]\n",
      "\n",
      " [[1.619786e-01 7.002309e-01 1.472924e-04]\n",
      "  [3.263228e-01 5.975974e-01 6.851106e-04]\n",
      "  [5.101129e-01 5.486196e-01 1.010224e-03]\n",
      "  ...\n",
      "  [2.952027e-01 6.552152e-01 4.631460e-05]\n",
      "  [0.000000e+00 5.177189e-01 0.000000e+00]\n",
      "  [0.000000e+00 5.177189e-01 0.000000e+00]]], shape=(161, 20, 3), dtype=float64)\n"
     ]
    }
   ],
   "source": [
    "print(x_test_3d)"
   ]
  },
  {
   "cell_type": "code",
   "execution_count": 93,
   "id": "2a492ff6",
   "metadata": {
    "ExecuteTime": {
     "end_time": "2023-05-10T14:38:27.507379700Z",
     "start_time": "2023-05-10T14:38:27.463380900Z"
    }
   },
   "outputs": [
    {
     "data": {
      "text/plain": "<Figure size 500x500 with 1 Axes>",
      "image/png": "[encoded data removed]"
     },
     "metadata": {},
     "output_type": "display_data"
    },
    {
     "name": "stdout",
     "output_type": "stream",
     "text": [
      "label:  5.0\n"
     ]
    }
   ],
   "source": [
    "fig = plt.figure(figsize=(5, 5))\n",
    "ax = fig.add_subplot(111, projection=\"3d\")\n",
    "points = x_train_3d[4]\n",
    "clas = y_train[4]\n",
    "ax.scatter(points[:, 0], points[:, 1], points[:, 2])\n",
    "ax.set_axis_off()\n",
    "ax.view_init(elev=90, azim=0, roll=90)\n",
    "plt.show()\n",
    "print(\"label: \", clas)"
   ]
  },
  {
   "cell_type": "code",
   "execution_count": 94,
   "id": "9d24f8cb",
   "metadata": {
    "ExecuteTime": {
     "end_time": "2023-05-10T14:38:28.146449500Z",
     "start_time": "2023-05-10T14:38:28.126453600Z"
    }
   },
   "outputs": [],
   "source": [
    "def augment(points, label):\n",
    "    # jitter points\n",
    "    points += tf.random.uniform(points.shape, -0.005, 0.005, dtype=tf.float64)\n",
    "    # shuffle points\n",
    "    points = tf.random.shuffle(points)\n",
    "    return points, label"
   ]
  },
  {
   "cell_type": "code",
   "execution_count": 95,
   "id": "f73b6de1",
   "metadata": {
    "ExecuteTime": {
     "end_time": "2023-05-10T14:38:28.885522600Z",
     "start_time": "2023-05-10T14:38:28.860513100Z"
    }
   },
   "outputs": [],
   "source": [
    "NUM_POINTS = 20\n",
    "NUM_CLASSES = 7\n",
    "BATCH_SIZE = 32\n",
    "\n",
    "train_dataset = tf.data.Dataset.from_tensor_slices((x_train_3d, y_train))\n",
    "test_dataset = tf.data.Dataset.from_tensor_slices((x_test_3d, y_test))\n",
    "\n",
    "train_dataset = train_dataset.shuffle(len(x_train_3d)).map(augment).batch(BATCH_SIZE)\n",
    "test_dataset = test_dataset.shuffle(len(x_test_3d)).batch(BATCH_SIZE)"
   ]
  },
  {
   "cell_type": "code",
   "execution_count": 96,
   "id": "d5e52d74",
   "metadata": {
    "ExecuteTime": {
     "end_time": "2023-05-10T14:38:33.725877800Z",
     "start_time": "2023-05-10T14:38:33.707878500Z"
    }
   },
   "outputs": [
    {
     "data": {
      "text/plain": "<BatchDataset element_spec=(TensorSpec(shape=(None, 20, 3), dtype=tf.float64, name=None), TensorSpec(shape=(None,), dtype=tf.float64, name=None))>"
     },
     "execution_count": 96,
     "metadata": {},
     "output_type": "execute_result"
    }
   ],
   "source": [
    "train_dataset"
   ]
  },
  {
   "cell_type": "code",
   "execution_count": 97,
   "id": "4fd939b0",
   "metadata": {
    "ExecuteTime": {
     "end_time": "2023-05-10T14:38:36.654014400Z",
     "start_time": "2023-05-10T14:38:36.639011600Z"
    }
   },
   "outputs": [],
   "source": [
    "def conv_bn(x, filters):\n",
    "    x = layers.Conv1D(filters, kernel_size=1, padding=\"valid\")(x)\n",
    "    x = layers.BatchNormalization(momentum=0.0)(x)\n",
    "    return layers.Activation(\"relu\")(x)\n",
    "\n",
    "\n",
    "def dense_bn(x, filters):\n",
    "    x = layers.Dense(filters)(x)\n",
    "    x = layers.BatchNormalization(momentum=0.0)(x)\n",
    "    return layers.Activation(\"relu\")(x)"
   ]
  },
  {
   "cell_type": "code",
   "execution_count": 98,
   "id": "6ed052fc",
   "metadata": {
    "ExecuteTime": {
     "end_time": "2023-05-10T14:38:37.590430200Z",
     "start_time": "2023-05-10T14:38:37.560417300Z"
    }
   },
   "outputs": [],
   "source": [
    "class OrthogonalRegularizerTest(keras.regularizers.Regularizer):\n",
    "    def __init__(self, num_features, l2reg=0.001):\n",
    "        self.num_features = num_features\n",
    "        self.l2reg = l2reg\n",
    "        self.eye = tf.eye(num_features)\n",
    "\n",
    "    def __call__(self, x):\n",
    "        x = tf.reshape(x, (-1, self.num_features, self.num_features))\n",
    "        xxt = tf.tensordot(x, x, axes=(2, 2))\n",
    "        xxt = tf.reshape(xxt, (-1, self.num_features, self.num_features))\n",
    "        return tf.reduce_sum(self.l2reg * tf.square(xxt - self.eye))\n",
    "    \n",
    "    def get_config(self):\n",
    "        return {'num_features': float(self.num_features), 'l2reg': float(self.l2reg)}"
   ]
  },
  {
   "cell_type": "code",
   "execution_count": 99,
   "id": "2dd07e3d",
   "metadata": {
    "ExecuteTime": {
     "end_time": "2023-05-10T14:38:41.618860800Z",
     "start_time": "2023-05-10T14:38:41.605862300Z"
    }
   },
   "outputs": [
    {
     "data": {
      "text/plain": "tensorflow.python.framework.ops.EagerTensor"
     },
     "execution_count": 99,
     "metadata": {},
     "output_type": "execute_result"
    }
   ],
   "source": [
    "type(tf.eye(3))"
   ]
  },
  {
   "cell_type": "code",
   "execution_count": 100,
   "id": "1a044a08",
   "metadata": {
    "ExecuteTime": {
     "end_time": "2023-05-10T14:38:42.661649200Z",
     "start_time": "2023-05-10T14:38:42.641650800Z"
    }
   },
   "outputs": [],
   "source": [
    "def tnet(inputs, num_features):\n",
    "\n",
    "    # Initalise bias as the indentity matrix\n",
    "    bias = keras.initializers.Constant(np.eye(num_features).flatten())\n",
    "    reg = OrthogonalRegularizerTest(num_features)\n",
    "\n",
    "    x = conv_bn(inputs, 32)\n",
    "    x = conv_bn(x, 64)\n",
    "    x = conv_bn(x, 512)\n",
    "    x = layers.GlobalMaxPooling1D()(x)\n",
    "    x = dense_bn(x, 256)\n",
    "    x = dense_bn(x, 128)\n",
    "    x = layers.Dense(\n",
    "        num_features * num_features,\n",
    "        kernel_initializer=\"zeros\",\n",
    "        bias_initializer=bias,\n",
    "        activity_regularizer=reg,\n",
    "    )(x)\n",
    "    feat_T = layers.Reshape((num_features, num_features))(x)\n",
    "    # Apply affine transformation to input features\n",
    "    return layers.Dot(axes=(2, 1))([inputs, feat_T])"
   ]
  },
  {
   "cell_type": "code",
   "execution_count": 101,
   "id": "f456f908",
   "metadata": {
    "scrolled": true,
    "ExecuteTime": {
     "end_time": "2023-05-10T14:38:44.430190200Z",
     "start_time": "2023-05-10T14:38:43.700406400Z"
    }
   },
   "outputs": [
    {
     "name": "stdout",
     "output_type": "stream",
     "text": [
      "Model: \"pointnet\"\n",
      "__________________________________________________________________________________________________\n",
      " Layer (type)                   Output Shape         Param #     Connected to                     \n",
      "==================================================================================================\n",
      " input_1 (InputLayer)           [(None, 20, 3)]      0           []                               \n",
      "                                                                                                  \n",
      " conv1d (Conv1D)                (None, 20, 32)       128         ['input_1[0][0]']                \n",
      "                                                                                                  \n",
      " batch_normalization (BatchNorm  (None, 20, 32)      128         ['conv1d[0][0]']                 \n",
      " alization)                                                                                       \n",
      "                                                                                                  \n",
      " activation (Activation)        (None, 20, 32)       0           ['batch_normalization[0][0]']    \n",
      "                                                                                                  \n",
      " conv1d_1 (Conv1D)              (None, 20, 64)       2112        ['activation[0][0]']             \n",
      "                                                                                                  \n",
      " batch_normalization_1 (BatchNo  (None, 20, 64)      256         ['conv1d_1[0][0]']               \n",
      " rmalization)                                                                                     \n",
      "                                                                                                  \n",
      " activation_1 (Activation)      (None, 20, 64)       0           ['batch_normalization_1[0][0]']  \n",
      "                                                                                                  \n",
      " conv1d_2 (Conv1D)              (None, 20, 512)      33280       ['activation_1[0][0]']           \n",
      "                                                                                                  \n",
      " batch_normalization_2 (BatchNo  (None, 20, 512)     2048        ['conv1d_2[0][0]']               \n",
      " rmalization)                                                                                     \n",
      "                                                                                                  \n",
      " activation_2 (Activation)      (None, 20, 512)      0           ['batch_normalization_2[0][0]']  \n",
      "                                                                                                  \n",
      " global_max_pooling1d (GlobalMa  (None, 512)         0           ['activation_2[0][0]']           \n",
      " xPooling1D)                                                                                      \n",
      "                                                                                                  \n",
      " dense (Dense)                  (None, 256)          131328      ['global_max_pooling1d[0][0]']   \n",
      "                                                                                                  \n",
      " batch_normalization_3 (BatchNo  (None, 256)         1024        ['dense[0][0]']                  \n",
      " rmalization)                                                                                     \n",
      "                                                                                                  \n",
      " activation_3 (Activation)      (None, 256)          0           ['batch_normalization_3[0][0]']  \n",
      "                                                                                                  \n",
      " dense_1 (Dense)                (None, 128)          32896       ['activation_3[0][0]']           \n",
      "                                                                                                  \n",
      " batch_normalization_4 (BatchNo  (None, 128)         512         ['dense_1[0][0]']                \n",
      " rmalization)                                                                                     \n",
      "                                                                                                  \n",
      " activation_4 (Activation)      (None, 128)          0           ['batch_normalization_4[0][0]']  \n",
      "                                                                                                  \n",
      " dense_2 (Dense)                (None, 9)            1161        ['activation_4[0][0]']           \n",
      "                                                                                                  \n",
      " reshape (Reshape)              (None, 3, 3)         0           ['dense_2[0][0]']                \n",
      "                                                                                                  \n",
      " dot (Dot)                      (None, 20, 3)        0           ['input_1[0][0]',                \n",
      "                                                                  'reshape[0][0]']                \n",
      "                                                                                                  \n",
      " conv1d_3 (Conv1D)              (None, 20, 32)       128         ['dot[0][0]']                    \n",
      "                                                                                                  \n",
      " batch_normalization_5 (BatchNo  (None, 20, 32)      128         ['conv1d_3[0][0]']               \n",
      " rmalization)                                                                                     \n",
      "                                                                                                  \n",
      " activation_5 (Activation)      (None, 20, 32)       0           ['batch_normalization_5[0][0]']  \n",
      "                                                                                                  \n",
      " conv1d_4 (Conv1D)              (None, 20, 32)       1056        ['activation_5[0][0]']           \n",
      "                                                                                                  \n",
      " batch_normalization_6 (BatchNo  (None, 20, 32)      128         ['conv1d_4[0][0]']               \n",
      " rmalization)                                                                                     \n",
      "                                                                                                  \n",
      " activation_6 (Activation)      (None, 20, 32)       0           ['batch_normalization_6[0][0]']  \n",
      "                                                                                                  \n",
      " conv1d_5 (Conv1D)              (None, 20, 32)       1056        ['activation_6[0][0]']           \n",
      "                                                                                                  \n",
      " batch_normalization_7 (BatchNo  (None, 20, 32)      128         ['conv1d_5[0][0]']               \n",
      " rmalization)                                                                                     \n",
      "                                                                                                  \n",
      " activation_7 (Activation)      (None, 20, 32)       0           ['batch_normalization_7[0][0]']  \n",
      "                                                                                                  \n",
      " conv1d_6 (Conv1D)              (None, 20, 64)       2112        ['activation_7[0][0]']           \n",
      "                                                                                                  \n",
      " batch_normalization_8 (BatchNo  (None, 20, 64)      256         ['conv1d_6[0][0]']               \n",
      " rmalization)                                                                                     \n",
      "                                                                                                  \n",
      " activation_8 (Activation)      (None, 20, 64)       0           ['batch_normalization_8[0][0]']  \n",
      "                                                                                                  \n",
      " conv1d_7 (Conv1D)              (None, 20, 512)      33280       ['activation_8[0][0]']           \n",
      "                                                                                                  \n",
      " batch_normalization_9 (BatchNo  (None, 20, 512)     2048        ['conv1d_7[0][0]']               \n",
      " rmalization)                                                                                     \n",
      "                                                                                                  \n",
      " activation_9 (Activation)      (None, 20, 512)      0           ['batch_normalization_9[0][0]']  \n",
      "                                                                                                  \n",
      " global_max_pooling1d_1 (Global  (None, 512)         0           ['activation_9[0][0]']           \n",
      " MaxPooling1D)                                                                                    \n",
      "                                                                                                  \n",
      " dense_3 (Dense)                (None, 256)          131328      ['global_max_pooling1d_1[0][0]'] \n",
      "                                                                                                  \n",
      " batch_normalization_10 (BatchN  (None, 256)         1024        ['dense_3[0][0]']                \n",
      " ormalization)                                                                                    \n",
      "                                                                                                  \n",
      " activation_10 (Activation)     (None, 256)          0           ['batch_normalization_10[0][0]'] \n",
      "                                                                                                  \n",
      " dense_4 (Dense)                (None, 128)          32896       ['activation_10[0][0]']          \n",
      "                                                                                                  \n",
      " batch_normalization_11 (BatchN  (None, 128)         512         ['dense_4[0][0]']                \n",
      " ormalization)                                                                                    \n",
      "                                                                                                  \n",
      " activation_11 (Activation)     (None, 128)          0           ['batch_normalization_11[0][0]'] \n",
      "                                                                                                  \n",
      " dense_5 (Dense)                (None, 1024)         132096      ['activation_11[0][0]']          \n",
      "                                                                                                  \n",
      " reshape_1 (Reshape)            (None, 32, 32)       0           ['dense_5[0][0]']                \n",
      "                                                                                                  \n",
      " dot_1 (Dot)                    (None, 20, 32)       0           ['activation_6[0][0]',           \n",
      "                                                                  'reshape_1[0][0]']              \n",
      "                                                                                                  \n",
      " conv1d_8 (Conv1D)              (None, 20, 32)       1056        ['dot_1[0][0]']                  \n",
      "                                                                                                  \n",
      " batch_normalization_12 (BatchN  (None, 20, 32)      128         ['conv1d_8[0][0]']               \n",
      " ormalization)                                                                                    \n",
      "                                                                                                  \n",
      " activation_12 (Activation)     (None, 20, 32)       0           ['batch_normalization_12[0][0]'] \n",
      "                                                                                                  \n",
      " conv1d_9 (Conv1D)              (None, 20, 64)       2112        ['activation_12[0][0]']          \n",
      "                                                                                                  \n",
      " batch_normalization_13 (BatchN  (None, 20, 64)      256         ['conv1d_9[0][0]']               \n",
      " ormalization)                                                                                    \n",
      "                                                                                                  \n",
      " activation_13 (Activation)     (None, 20, 64)       0           ['batch_normalization_13[0][0]'] \n",
      "                                                                                                  \n",
      " conv1d_10 (Conv1D)             (None, 20, 512)      33280       ['activation_13[0][0]']          \n",
      "                                                                                                  \n",
      " batch_normalization_14 (BatchN  (None, 20, 512)     2048        ['conv1d_10[0][0]']              \n",
      " ormalization)                                                                                    \n",
      "                                                                                                  \n",
      " activation_14 (Activation)     (None, 20, 512)      0           ['batch_normalization_14[0][0]'] \n",
      "                                                                                                  \n",
      " global_max_pooling1d_2 (Global  (None, 512)         0           ['activation_14[0][0]']          \n",
      " MaxPooling1D)                                                                                    \n",
      "                                                                                                  \n",
      " dense_6 (Dense)                (None, 256)          131328      ['global_max_pooling1d_2[0][0]'] \n",
      "                                                                                                  \n",
      " batch_normalization_15 (BatchN  (None, 256)         1024        ['dense_6[0][0]']                \n",
      " ormalization)                                                                                    \n",
      "                                                                                                  \n",
      " activation_15 (Activation)     (None, 256)          0           ['batch_normalization_15[0][0]'] \n",
      "                                                                                                  \n",
      " dropout (Dropout)              (None, 256)          0           ['activation_15[0][0]']          \n",
      "                                                                                                  \n",
      " dense_7 (Dense)                (None, 128)          32896       ['dropout[0][0]']                \n",
      "                                                                                                  \n",
      " batch_normalization_16 (BatchN  (None, 128)         512         ['dense_7[0][0]']                \n",
      " ormalization)                                                                                    \n",
      "                                                                                                  \n",
      " activation_16 (Activation)     (None, 128)          0           ['batch_normalization_16[0][0]'] \n",
      "                                                                                                  \n",
      " dropout_1 (Dropout)            (None, 128)          0           ['activation_16[0][0]']          \n",
      "                                                                                                  \n",
      " dense_8 (Dense)                (None, 7)            903         ['dropout_1[0][0]']              \n",
      "                                                                                                  \n",
      "==================================================================================================\n",
      "Total params: 748,592\n",
      "Trainable params: 742,512\n",
      "Non-trainable params: 6,080\n",
      "__________________________________________________________________________________________________\n"
     ]
    }
   ],
   "source": [
    "inputs = keras.Input(shape=(NUM_POINTS, 3))\n",
    "\n",
    "x = tnet(inputs, 3)\n",
    "x = conv_bn(x, 32)\n",
    "x = conv_bn(x, 32)\n",
    "x = tnet(x, 32)\n",
    "x = conv_bn(x, 32)\n",
    "x = conv_bn(x, 64)\n",
    "x = conv_bn(x, 512)\n",
    "x = layers.GlobalMaxPooling1D()(x)\n",
    "x = dense_bn(x, 256)\n",
    "x = layers.Dropout(0.3)(x)\n",
    "x = dense_bn(x, 128)\n",
    "x = layers.Dropout(0.3)(x)\n",
    "\n",
    "outputs = layers.Dense(NUM_CLASSES, activation=\"softmax\")(x)\n",
    "\n",
    "model = keras.Model(inputs=inputs, outputs=outputs, name=\"pointnet\")\n",
    "model.summary()"
   ]
  },
  {
   "cell_type": "code",
   "execution_count": 102,
   "id": "c61d5d05",
   "metadata": {
    "ExecuteTime": {
     "end_time": "2023-05-10T14:39:11.938326600Z",
     "start_time": "2023-05-10T14:38:54.676236900Z"
    }
   },
   "outputs": [
    {
     "name": "stdout",
     "output_type": "stream",
     "text": [
      "Epoch 1/20\n",
      "20/20 [==============================] - 5s 56ms/step - loss: 3.3392 - sparse_categorical_accuracy: 0.4797 - val_loss: 4.1627 - val_sparse_categorical_accuracy: 0.6149\n",
      "Epoch 2/20\n",
      "20/20 [==============================] - 1s 30ms/step - loss: 2.2773 - sparse_categorical_accuracy: 0.6797 - val_loss: 12120479.0000 - val_sparse_categorical_accuracy: 0.7329\n",
      "Epoch 3/20\n",
      "20/20 [==============================] - 1s 30ms/step - loss: 1.8442 - sparse_categorical_accuracy: 0.8125 - val_loss: 2.1591 - val_sparse_categorical_accuracy: 0.8137\n",
      "Epoch 4/20\n",
      "20/20 [==============================] - 1s 30ms/step - loss: 1.7538 - sparse_categorical_accuracy: 0.8219 - val_loss: 4.2245 - val_sparse_categorical_accuracy: 0.8199\n",
      "Epoch 5/20\n",
      "20/20 [==============================] - 1s 30ms/step - loss: 1.8226 - sparse_categorical_accuracy: 0.8078 - val_loss: 23724.3145 - val_sparse_categorical_accuracy: 0.8261\n",
      "Epoch 6/20\n",
      "20/20 [==============================] - 1s 30ms/step - loss: 1.6804 - sparse_categorical_accuracy: 0.8531 - val_loss: 1.5965 - val_sparse_categorical_accuracy: 0.8944\n",
      "Epoch 7/20\n",
      "20/20 [==============================] - 1s 30ms/step - loss: 1.4910 - sparse_categorical_accuracy: 0.9000 - val_loss: 2.6251 - val_sparse_categorical_accuracy: 0.8820\n",
      "Epoch 8/20\n",
      "20/20 [==============================] - 1s 30ms/step - loss: 1.4386 - sparse_categorical_accuracy: 0.9141 - val_loss: 2.0756 - val_sparse_categorical_accuracy: 0.9068\n",
      "Epoch 9/20\n",
      "20/20 [==============================] - 1s 31ms/step - loss: 1.4866 - sparse_categorical_accuracy: 0.8891 - val_loss: 2.3820 - val_sparse_categorical_accuracy: 0.8447\n",
      "Epoch 10/20\n",
      "20/20 [==============================] - 1s 30ms/step - loss: 1.5641 - sparse_categorical_accuracy: 0.8766 - val_loss: 11.3132 - val_sparse_categorical_accuracy: 0.8944\n",
      "Epoch 11/20\n",
      "20/20 [==============================] - 1s 30ms/step - loss: 1.4404 - sparse_categorical_accuracy: 0.9219 - val_loss: 3478811.0000 - val_sparse_categorical_accuracy: 0.8634\n",
      "Epoch 12/20\n",
      "20/20 [==============================] - 1s 34ms/step - loss: 1.4334 - sparse_categorical_accuracy: 0.9125 - val_loss: 3.3083 - val_sparse_categorical_accuracy: 0.8696\n",
      "Epoch 13/20\n",
      "20/20 [==============================] - 1s 32ms/step - loss: 1.4224 - sparse_categorical_accuracy: 0.9109 - val_loss: 2.1295 - val_sparse_categorical_accuracy: 0.9006\n",
      "Epoch 14/20\n",
      "20/20 [==============================] - 1s 35ms/step - loss: 1.4260 - sparse_categorical_accuracy: 0.9172 - val_loss: 1.4494 - val_sparse_categorical_accuracy: 0.8944\n",
      "Epoch 15/20\n",
      "20/20 [==============================] - 1s 30ms/step - loss: 1.4034 - sparse_categorical_accuracy: 0.8938 - val_loss: 2.7504 - val_sparse_categorical_accuracy: 0.8509\n",
      "Epoch 16/20\n",
      "20/20 [==============================] - 1s 31ms/step - loss: 1.4094 - sparse_categorical_accuracy: 0.9172 - val_loss: 9.1837 - val_sparse_categorical_accuracy: 0.8571\n",
      "Epoch 17/20\n",
      "20/20 [==============================] - 1s 31ms/step - loss: 1.4177 - sparse_categorical_accuracy: 0.9141 - val_loss: 1.5597 - val_sparse_categorical_accuracy: 0.8944\n",
      "Epoch 18/20\n",
      "20/20 [==============================] - 1s 33ms/step - loss: 1.3595 - sparse_categorical_accuracy: 0.9312 - val_loss: 375292.9062 - val_sparse_categorical_accuracy: 0.8820\n",
      "Epoch 19/20\n",
      "20/20 [==============================] - 1s 32ms/step - loss: 1.4134 - sparse_categorical_accuracy: 0.9187 - val_loss: 1.5476 - val_sparse_categorical_accuracy: 0.9068\n",
      "Epoch 20/20\n",
      "20/20 [==============================] - 1s 32ms/step - loss: 1.3799 - sparse_categorical_accuracy: 0.9109 - val_loss: 3752521.2500 - val_sparse_categorical_accuracy: 0.8696\n"
     ]
    },
    {
     "data": {
      "text/plain": "<keras.callbacks.History at 0x258a2e2c610>"
     },
     "execution_count": 102,
     "metadata": {},
     "output_type": "execute_result"
    }
   ],
   "source": [
    "model.compile(\n",
    "    loss=\"sparse_categorical_crossentropy\",\n",
    "    optimizer=keras.optimizers.Adam(learning_rate=0.001),\n",
    "    metrics=[\"sparse_categorical_accuracy\"],\n",
    ")\n",
    "\n",
    "model.fit(train_dataset, epochs=20, validation_data=test_dataset)"
   ]
  },
  {
   "cell_type": "code",
   "execution_count": 103,
   "id": "f6eb7d3d",
   "metadata": {
    "ExecuteTime": {
     "end_time": "2023-05-10T14:40:04.438960800Z",
     "start_time": "2023-05-10T14:40:03.671928300Z"
    }
   },
   "outputs": [
    {
     "name": "stdout",
     "output_type": "stream",
     "text": [
      "1/1 [==============================] - 0s 424ms/step\n"
     ]
    },
    {
     "data": {
      "text/plain": "<Figure size 1500x1000 with 8 Axes>",
      "image/png": "[encoded data removed]"
     },
     "metadata": {},
     "output_type": "display_data"
    }
   ],
   "source": [
    "class_map = {}\n",
    "class_map[0] = \"Time\"\n",
    "class_map[1] = \"Wind\"\n",
    "class_map[2] = \"Fire\"\n",
    "class_map[3] = \"Earth\"\n",
    "class_map[4] = \"Water\"\n",
    "class_map[5] = \"Lightning\"\n",
    "class_map[6] = \"Other\"\n",
    "\n",
    "data = test_dataset.take(1)\n",
    "\n",
    "points, labels = list(data)[0]\n",
    "points = points[:8, ...]\n",
    "labels = labels[:8, ...]\n",
    "\n",
    "# run test data through model\n",
    "preds = model.predict(points)\n",
    "preds = tf.math.argmax(preds, -1)\n",
    "\n",
    "points = points.numpy()\n",
    "\n",
    "# plot points with predicted class and label\n",
    "fig = plt.figure(figsize=(15, 10))\n",
    "for i in range(8):\n",
    "    ax = fig.add_subplot(2, 4, i + 1, projection=\"3d\")\n",
    "    ax.scatter(points[i, :, 0], points[i, :, 1], points[i, :, 2])\n",
    "    ax.set_title(\n",
    "        \"pred: {:}, label: {:}\".format(\n",
    "            class_map[preds[i].numpy()], class_map[labels.numpy()[i]]\n",
    "        )\n",
    "    )\n",
    "    ax.set_axis_off()    \n",
    "    ax.view_init(elev=90, azim=0, roll=90)\n",
    "plt.show()\n"
   ]
  },
  {
   "cell_type": "code",
   "execution_count": 104,
   "id": "de8482ff",
   "metadata": {
    "ExecuteTime": {
     "end_time": "2023-05-10T14:40:35.608124400Z",
     "start_time": "2023-05-10T14:40:28.572982700Z"
    }
   },
   "outputs": [
    {
     "name": "stderr",
     "output_type": "stream",
     "text": [
      "WARNING:absl:Found untraced functions such as _jit_compiled_convolution_op, _jit_compiled_convolution_op, _jit_compiled_convolution_op, _jit_compiled_convolution_op, _jit_compiled_convolution_op while saving (showing 5 of 11). These functions will not be directly callable after loading.\n"
     ]
    },
    {
     "name": "stdout",
     "output_type": "stream",
     "text": [
      "INFO:tensorflow:Assets written to: model_3d_with_other\\assets\n"
     ]
    },
    {
     "name": "stderr",
     "output_type": "stream",
     "text": [
      "INFO:tensorflow:Assets written to: model_3d_with_other\\assets\n"
     ]
    }
   ],
   "source": [
    "model.save('model_3d_with_other')"
   ]
  },
  {
   "cell_type": "code",
   "execution_count": 105,
   "id": "33da4ef1",
   "metadata": {
    "ExecuteTime": {
     "end_time": "2023-05-10T14:40:35.677919500Z",
     "start_time": "2023-05-10T14:40:35.610125Z"
    }
   },
   "outputs": [
    {
     "name": "stdout",
     "output_type": "stream",
     "text": [
      "6/6 [==============================] - 0s 6ms/step - loss: 2913210.7500 - sparse_categorical_accuracy: 0.8696\n"
     ]
    },
    {
     "data": {
      "text/plain": "[2913210.75, 0.8695651888847351]"
     },
     "execution_count": 105,
     "metadata": {},
     "output_type": "execute_result"
    }
   ],
   "source": [
    "model.evaluate(test_dataset)"
   ]
  },
  {
   "cell_type": "code",
   "execution_count": 106,
   "id": "e95c1907",
   "metadata": {
    "ExecuteTime": {
     "end_time": "2023-05-10T14:40:40.189896100Z",
     "start_time": "2023-05-10T14:40:39.906417300Z"
    }
   },
   "outputs": [
    {
     "ename": "FileNotFoundError",
     "evalue": "[Errno 2] No such file or directory: 'InvertedRunes.csv'",
     "output_type": "error",
     "traceback": [
      "\u001B[1;31m---------------------------------------------------------------------------\u001B[0m",
      "\u001B[1;31mFileNotFoundError\u001B[0m                         Traceback (most recent call last)",
      "Cell \u001B[1;32mIn[106], line 1\u001B[0m\n\u001B[1;32m----> 1\u001B[0m inverted_rune_data \u001B[38;5;241m=\u001B[39m \u001B[43mpd\u001B[49m\u001B[38;5;241;43m.\u001B[39;49m\u001B[43mread_csv\u001B[49m\u001B[43m(\u001B[49m\u001B[38;5;124;43m\"\u001B[39;49m\u001B[38;5;124;43mInvertedRunes.csv\u001B[39;49m\u001B[38;5;124;43m\"\u001B[39;49m\u001B[43m,\u001B[49m\u001B[43m \u001B[49m\u001B[43mheader\u001B[49m\u001B[38;5;241;43m=\u001B[39;49m\u001B[38;5;28;43;01mNone\u001B[39;49;00m\u001B[43m)\u001B[49m\n\u001B[0;32m      2\u001B[0m inverted_runes_X \u001B[38;5;241m=\u001B[39m inverted_rune_data\u001B[38;5;241m.\u001B[39miloc[:, :\u001B[38;5;241m-\u001B[39m\u001B[38;5;241m1\u001B[39m]\n\u001B[0;32m      4\u001B[0m inverted_runes_Y \u001B[38;5;241m=\u001B[39m inverted_rune_data\u001B[38;5;241m.\u001B[39miloc[:,\u001B[38;5;241m-\u001B[39m\u001B[38;5;241m1\u001B[39m:]\n",
      "File \u001B[1;32mC:\\Python\\Python310\\lib\\site-packages\\pandas\\util\\_decorators.py:211\u001B[0m, in \u001B[0;36mdeprecate_kwarg.<locals>._deprecate_kwarg.<locals>.wrapper\u001B[1;34m(*args, **kwargs)\u001B[0m\n\u001B[0;32m    209\u001B[0m     \u001B[38;5;28;01melse\u001B[39;00m:\n\u001B[0;32m    210\u001B[0m         kwargs[new_arg_name] \u001B[38;5;241m=\u001B[39m new_arg_value\n\u001B[1;32m--> 211\u001B[0m \u001B[38;5;28;01mreturn\u001B[39;00m func(\u001B[38;5;241m*\u001B[39margs, \u001B[38;5;241m*\u001B[39m\u001B[38;5;241m*\u001B[39mkwargs)\n",
      "File \u001B[1;32mC:\\Python\\Python310\\lib\\site-packages\\pandas\\util\\_decorators.py:317\u001B[0m, in \u001B[0;36mdeprecate_nonkeyword_arguments.<locals>.decorate.<locals>.wrapper\u001B[1;34m(*args, **kwargs)\u001B[0m\n\u001B[0;32m    311\u001B[0m \u001B[38;5;28;01mif\u001B[39;00m \u001B[38;5;28mlen\u001B[39m(args) \u001B[38;5;241m>\u001B[39m num_allow_args:\n\u001B[0;32m    312\u001B[0m     warnings\u001B[38;5;241m.\u001B[39mwarn(\n\u001B[0;32m    313\u001B[0m         msg\u001B[38;5;241m.\u001B[39mformat(arguments\u001B[38;5;241m=\u001B[39marguments),\n\u001B[0;32m    314\u001B[0m         \u001B[38;5;167;01mFutureWarning\u001B[39;00m,\n\u001B[0;32m    315\u001B[0m         stacklevel\u001B[38;5;241m=\u001B[39mfind_stack_level(inspect\u001B[38;5;241m.\u001B[39mcurrentframe()),\n\u001B[0;32m    316\u001B[0m     )\n\u001B[1;32m--> 317\u001B[0m \u001B[38;5;28;01mreturn\u001B[39;00m func(\u001B[38;5;241m*\u001B[39margs, \u001B[38;5;241m*\u001B[39m\u001B[38;5;241m*\u001B[39mkwargs)\n",
      "File \u001B[1;32mC:\\Python\\Python310\\lib\\site-packages\\pandas\\io\\parsers\\readers.py:950\u001B[0m, in \u001B[0;36mread_csv\u001B[1;34m(filepath_or_buffer, sep, delimiter, header, names, index_col, usecols, squeeze, prefix, mangle_dupe_cols, dtype, engine, converters, true_values, false_values, skipinitialspace, skiprows, skipfooter, nrows, na_values, keep_default_na, na_filter, verbose, skip_blank_lines, parse_dates, infer_datetime_format, keep_date_col, date_parser, dayfirst, cache_dates, iterator, chunksize, compression, thousands, decimal, lineterminator, quotechar, quoting, doublequote, escapechar, comment, encoding, encoding_errors, dialect, error_bad_lines, warn_bad_lines, on_bad_lines, delim_whitespace, low_memory, memory_map, float_precision, storage_options)\u001B[0m\n\u001B[0;32m    935\u001B[0m kwds_defaults \u001B[38;5;241m=\u001B[39m _refine_defaults_read(\n\u001B[0;32m    936\u001B[0m     dialect,\n\u001B[0;32m    937\u001B[0m     delimiter,\n\u001B[1;32m   (...)\u001B[0m\n\u001B[0;32m    946\u001B[0m     defaults\u001B[38;5;241m=\u001B[39m{\u001B[38;5;124m\"\u001B[39m\u001B[38;5;124mdelimiter\u001B[39m\u001B[38;5;124m\"\u001B[39m: \u001B[38;5;124m\"\u001B[39m\u001B[38;5;124m,\u001B[39m\u001B[38;5;124m\"\u001B[39m},\n\u001B[0;32m    947\u001B[0m )\n\u001B[0;32m    948\u001B[0m kwds\u001B[38;5;241m.\u001B[39mupdate(kwds_defaults)\n\u001B[1;32m--> 950\u001B[0m \u001B[38;5;28;01mreturn\u001B[39;00m \u001B[43m_read\u001B[49m\u001B[43m(\u001B[49m\u001B[43mfilepath_or_buffer\u001B[49m\u001B[43m,\u001B[49m\u001B[43m \u001B[49m\u001B[43mkwds\u001B[49m\u001B[43m)\u001B[49m\n",
      "File \u001B[1;32mC:\\Python\\Python310\\lib\\site-packages\\pandas\\io\\parsers\\readers.py:605\u001B[0m, in \u001B[0;36m_read\u001B[1;34m(filepath_or_buffer, kwds)\u001B[0m\n\u001B[0;32m    602\u001B[0m _validate_names(kwds\u001B[38;5;241m.\u001B[39mget(\u001B[38;5;124m\"\u001B[39m\u001B[38;5;124mnames\u001B[39m\u001B[38;5;124m\"\u001B[39m, \u001B[38;5;28;01mNone\u001B[39;00m))\n\u001B[0;32m    604\u001B[0m \u001B[38;5;66;03m# Create the parser.\u001B[39;00m\n\u001B[1;32m--> 605\u001B[0m parser \u001B[38;5;241m=\u001B[39m TextFileReader(filepath_or_buffer, \u001B[38;5;241m*\u001B[39m\u001B[38;5;241m*\u001B[39mkwds)\n\u001B[0;32m    607\u001B[0m \u001B[38;5;28;01mif\u001B[39;00m chunksize \u001B[38;5;129;01mor\u001B[39;00m iterator:\n\u001B[0;32m    608\u001B[0m     \u001B[38;5;28;01mreturn\u001B[39;00m parser\n",
      "File \u001B[1;32mC:\\Python\\Python310\\lib\\site-packages\\pandas\\io\\parsers\\readers.py:1442\u001B[0m, in \u001B[0;36mTextFileReader.__init__\u001B[1;34m(self, f, engine, **kwds)\u001B[0m\n\u001B[0;32m   1439\u001B[0m     \u001B[38;5;28mself\u001B[39m\u001B[38;5;241m.\u001B[39moptions[\u001B[38;5;124m\"\u001B[39m\u001B[38;5;124mhas_index_names\u001B[39m\u001B[38;5;124m\"\u001B[39m] \u001B[38;5;241m=\u001B[39m kwds[\u001B[38;5;124m\"\u001B[39m\u001B[38;5;124mhas_index_names\u001B[39m\u001B[38;5;124m\"\u001B[39m]\n\u001B[0;32m   1441\u001B[0m \u001B[38;5;28mself\u001B[39m\u001B[38;5;241m.\u001B[39mhandles: IOHandles \u001B[38;5;241m|\u001B[39m \u001B[38;5;28;01mNone\u001B[39;00m \u001B[38;5;241m=\u001B[39m \u001B[38;5;28;01mNone\u001B[39;00m\n\u001B[1;32m-> 1442\u001B[0m \u001B[38;5;28mself\u001B[39m\u001B[38;5;241m.\u001B[39m_engine \u001B[38;5;241m=\u001B[39m \u001B[38;5;28;43mself\u001B[39;49m\u001B[38;5;241;43m.\u001B[39;49m\u001B[43m_make_engine\u001B[49m\u001B[43m(\u001B[49m\u001B[43mf\u001B[49m\u001B[43m,\u001B[49m\u001B[43m \u001B[49m\u001B[38;5;28;43mself\u001B[39;49m\u001B[38;5;241;43m.\u001B[39;49m\u001B[43mengine\u001B[49m\u001B[43m)\u001B[49m\n",
      "File \u001B[1;32mC:\\Python\\Python310\\lib\\site-packages\\pandas\\io\\parsers\\readers.py:1729\u001B[0m, in \u001B[0;36mTextFileReader._make_engine\u001B[1;34m(self, f, engine)\u001B[0m\n\u001B[0;32m   1727\u001B[0m     is_text \u001B[38;5;241m=\u001B[39m \u001B[38;5;28;01mFalse\u001B[39;00m\n\u001B[0;32m   1728\u001B[0m     mode \u001B[38;5;241m=\u001B[39m \u001B[38;5;124m\"\u001B[39m\u001B[38;5;124mrb\u001B[39m\u001B[38;5;124m\"\u001B[39m\n\u001B[1;32m-> 1729\u001B[0m \u001B[38;5;28mself\u001B[39m\u001B[38;5;241m.\u001B[39mhandles \u001B[38;5;241m=\u001B[39m \u001B[43mget_handle\u001B[49m\u001B[43m(\u001B[49m\n\u001B[0;32m   1730\u001B[0m \u001B[43m    \u001B[49m\u001B[43mf\u001B[49m\u001B[43m,\u001B[49m\n\u001B[0;32m   1731\u001B[0m \u001B[43m    \u001B[49m\u001B[43mmode\u001B[49m\u001B[43m,\u001B[49m\n\u001B[0;32m   1732\u001B[0m \u001B[43m    \u001B[49m\u001B[43mencoding\u001B[49m\u001B[38;5;241;43m=\u001B[39;49m\u001B[38;5;28;43mself\u001B[39;49m\u001B[38;5;241;43m.\u001B[39;49m\u001B[43moptions\u001B[49m\u001B[38;5;241;43m.\u001B[39;49m\u001B[43mget\u001B[49m\u001B[43m(\u001B[49m\u001B[38;5;124;43m\"\u001B[39;49m\u001B[38;5;124;43mencoding\u001B[39;49m\u001B[38;5;124;43m\"\u001B[39;49m\u001B[43m,\u001B[49m\u001B[43m \u001B[49m\u001B[38;5;28;43;01mNone\u001B[39;49;00m\u001B[43m)\u001B[49m\u001B[43m,\u001B[49m\n\u001B[0;32m   1733\u001B[0m \u001B[43m    \u001B[49m\u001B[43mcompression\u001B[49m\u001B[38;5;241;43m=\u001B[39;49m\u001B[38;5;28;43mself\u001B[39;49m\u001B[38;5;241;43m.\u001B[39;49m\u001B[43moptions\u001B[49m\u001B[38;5;241;43m.\u001B[39;49m\u001B[43mget\u001B[49m\u001B[43m(\u001B[49m\u001B[38;5;124;43m\"\u001B[39;49m\u001B[38;5;124;43mcompression\u001B[39;49m\u001B[38;5;124;43m\"\u001B[39;49m\u001B[43m,\u001B[49m\u001B[43m \u001B[49m\u001B[38;5;28;43;01mNone\u001B[39;49;00m\u001B[43m)\u001B[49m\u001B[43m,\u001B[49m\n\u001B[0;32m   1734\u001B[0m \u001B[43m    \u001B[49m\u001B[43mmemory_map\u001B[49m\u001B[38;5;241;43m=\u001B[39;49m\u001B[38;5;28;43mself\u001B[39;49m\u001B[38;5;241;43m.\u001B[39;49m\u001B[43moptions\u001B[49m\u001B[38;5;241;43m.\u001B[39;49m\u001B[43mget\u001B[49m\u001B[43m(\u001B[49m\u001B[38;5;124;43m\"\u001B[39;49m\u001B[38;5;124;43mmemory_map\u001B[39;49m\u001B[38;5;124;43m\"\u001B[39;49m\u001B[43m,\u001B[49m\u001B[43m \u001B[49m\u001B[38;5;28;43;01mFalse\u001B[39;49;00m\u001B[43m)\u001B[49m\u001B[43m,\u001B[49m\n\u001B[0;32m   1735\u001B[0m \u001B[43m    \u001B[49m\u001B[43mis_text\u001B[49m\u001B[38;5;241;43m=\u001B[39;49m\u001B[43mis_text\u001B[49m\u001B[43m,\u001B[49m\n\u001B[0;32m   1736\u001B[0m \u001B[43m    \u001B[49m\u001B[43merrors\u001B[49m\u001B[38;5;241;43m=\u001B[39;49m\u001B[38;5;28;43mself\u001B[39;49m\u001B[38;5;241;43m.\u001B[39;49m\u001B[43moptions\u001B[49m\u001B[38;5;241;43m.\u001B[39;49m\u001B[43mget\u001B[49m\u001B[43m(\u001B[49m\u001B[38;5;124;43m\"\u001B[39;49m\u001B[38;5;124;43mencoding_errors\u001B[39;49m\u001B[38;5;124;43m\"\u001B[39;49m\u001B[43m,\u001B[49m\u001B[43m \u001B[49m\u001B[38;5;124;43m\"\u001B[39;49m\u001B[38;5;124;43mstrict\u001B[39;49m\u001B[38;5;124;43m\"\u001B[39;49m\u001B[43m)\u001B[49m\u001B[43m,\u001B[49m\n\u001B[0;32m   1737\u001B[0m \u001B[43m    \u001B[49m\u001B[43mstorage_options\u001B[49m\u001B[38;5;241;43m=\u001B[39;49m\u001B[38;5;28;43mself\u001B[39;49m\u001B[38;5;241;43m.\u001B[39;49m\u001B[43moptions\u001B[49m\u001B[38;5;241;43m.\u001B[39;49m\u001B[43mget\u001B[49m\u001B[43m(\u001B[49m\u001B[38;5;124;43m\"\u001B[39;49m\u001B[38;5;124;43mstorage_options\u001B[39;49m\u001B[38;5;124;43m\"\u001B[39;49m\u001B[43m,\u001B[49m\u001B[43m \u001B[49m\u001B[38;5;28;43;01mNone\u001B[39;49;00m\u001B[43m)\u001B[49m\u001B[43m,\u001B[49m\n\u001B[0;32m   1738\u001B[0m \u001B[43m\u001B[49m\u001B[43m)\u001B[49m\n\u001B[0;32m   1739\u001B[0m \u001B[38;5;28;01massert\u001B[39;00m \u001B[38;5;28mself\u001B[39m\u001B[38;5;241m.\u001B[39mhandles \u001B[38;5;129;01mis\u001B[39;00m \u001B[38;5;129;01mnot\u001B[39;00m \u001B[38;5;28;01mNone\u001B[39;00m\n\u001B[0;32m   1740\u001B[0m f \u001B[38;5;241m=\u001B[39m \u001B[38;5;28mself\u001B[39m\u001B[38;5;241m.\u001B[39mhandles\u001B[38;5;241m.\u001B[39mhandle\n",
      "File \u001B[1;32mC:\\Python\\Python310\\lib\\site-packages\\pandas\\io\\common.py:857\u001B[0m, in \u001B[0;36mget_handle\u001B[1;34m(path_or_buf, mode, encoding, compression, memory_map, is_text, errors, storage_options)\u001B[0m\n\u001B[0;32m    852\u001B[0m \u001B[38;5;28;01melif\u001B[39;00m \u001B[38;5;28misinstance\u001B[39m(handle, \u001B[38;5;28mstr\u001B[39m):\n\u001B[0;32m    853\u001B[0m     \u001B[38;5;66;03m# Check whether the filename is to be opened in binary mode.\u001B[39;00m\n\u001B[0;32m    854\u001B[0m     \u001B[38;5;66;03m# Binary mode does not support 'encoding' and 'newline'.\u001B[39;00m\n\u001B[0;32m    855\u001B[0m     \u001B[38;5;28;01mif\u001B[39;00m ioargs\u001B[38;5;241m.\u001B[39mencoding \u001B[38;5;129;01mand\u001B[39;00m \u001B[38;5;124m\"\u001B[39m\u001B[38;5;124mb\u001B[39m\u001B[38;5;124m\"\u001B[39m \u001B[38;5;129;01mnot\u001B[39;00m \u001B[38;5;129;01min\u001B[39;00m ioargs\u001B[38;5;241m.\u001B[39mmode:\n\u001B[0;32m    856\u001B[0m         \u001B[38;5;66;03m# Encoding\u001B[39;00m\n\u001B[1;32m--> 857\u001B[0m         handle \u001B[38;5;241m=\u001B[39m \u001B[38;5;28;43mopen\u001B[39;49m\u001B[43m(\u001B[49m\n\u001B[0;32m    858\u001B[0m \u001B[43m            \u001B[49m\u001B[43mhandle\u001B[49m\u001B[43m,\u001B[49m\n\u001B[0;32m    859\u001B[0m \u001B[43m            \u001B[49m\u001B[43mioargs\u001B[49m\u001B[38;5;241;43m.\u001B[39;49m\u001B[43mmode\u001B[49m\u001B[43m,\u001B[49m\n\u001B[0;32m    860\u001B[0m \u001B[43m            \u001B[49m\u001B[43mencoding\u001B[49m\u001B[38;5;241;43m=\u001B[39;49m\u001B[43mioargs\u001B[49m\u001B[38;5;241;43m.\u001B[39;49m\u001B[43mencoding\u001B[49m\u001B[43m,\u001B[49m\n\u001B[0;32m    861\u001B[0m \u001B[43m            \u001B[49m\u001B[43merrors\u001B[49m\u001B[38;5;241;43m=\u001B[39;49m\u001B[43merrors\u001B[49m\u001B[43m,\u001B[49m\n\u001B[0;32m    862\u001B[0m \u001B[43m            \u001B[49m\u001B[43mnewline\u001B[49m\u001B[38;5;241;43m=\u001B[39;49m\u001B[38;5;124;43m\"\u001B[39;49m\u001B[38;5;124;43m\"\u001B[39;49m\u001B[43m,\u001B[49m\n\u001B[0;32m    863\u001B[0m \u001B[43m        \u001B[49m\u001B[43m)\u001B[49m\n\u001B[0;32m    864\u001B[0m     \u001B[38;5;28;01melse\u001B[39;00m:\n\u001B[0;32m    865\u001B[0m         \u001B[38;5;66;03m# Binary mode\u001B[39;00m\n\u001B[0;32m    866\u001B[0m         handle \u001B[38;5;241m=\u001B[39m \u001B[38;5;28mopen\u001B[39m(handle, ioargs\u001B[38;5;241m.\u001B[39mmode)\n",
      "\u001B[1;31mFileNotFoundError\u001B[0m: [Errno 2] No such file or directory: 'InvertedRunes.csv'"
     ]
    }
   ],
   "source": [
    "inverted_rune_data = pd.read_csv(\"InvertedRunes.csv\", header=None)\n",
    "inverted_runes_X = inverted_rune_data.iloc[:, :-1]\n",
    "\n",
    "inverted_runes_Y = inverted_rune_data.iloc[:,-1:]\n",
    "inverted_runes_Y = inverted_runes_Y.replace(\"Time\", 0)\n",
    "inverted_runes_Y = inverted_runes_Y.replace(\"Wind\", 1)\n",
    "\n",
    "inverted_runes_X_3d = [np.array(inverted_runes_X[i]).reshape(-1, 3) for i in range(len(inverted_runes_X))]\n",
    "inverted_runes_X_3d = tf.stack(inverted_runes_X_3d)"
   ]
  },
  {
   "cell_type": "code",
   "execution_count": null,
   "id": "998abf37",
   "metadata": {},
   "outputs": [],
   "source": [
    "fig = plt.figure(figsize=(5, 5))\n",
    "ax = fig.add_subplot(111, projection=\"3d\")\n",
    "points = inverted_runes_X_3d[2]\n",
    "ax.scatter(points[:, 0], points[:, 1], points[:, 2])\n",
    "ax.set_axis_off()\n",
    "ax.view_init(elev=90, azim=0, roll=90)\n",
    "plt.show()"
   ]
  },
  {
   "cell_type": "code",
   "execution_count": 75,
   "id": "c36fc43e",
   "metadata": {},
   "outputs": [
    {
     "ename": "ValueError",
     "evalue": "Unknown regularizer: OrthogonalRegularizerTest. Please ensure this object is passed to the `custom_objects` argument. See https://www.tensorflow.org/guide/keras/save_and_serialize#registering_the_custom_object for details.",
     "output_type": "error",
     "traceback": [
      "\u001B[1;31m---------------------------------------------------------------------------\u001B[0m",
      "\u001B[1;31mValueError\u001B[0m                                Traceback (most recent call last)",
      "Cell \u001B[1;32mIn[75], line 1\u001B[0m\n\u001B[1;32m----> 1\u001B[0m test_model \u001B[38;5;241m=\u001B[39m \u001B[43mkeras\u001B[49m\u001B[38;5;241;43m.\u001B[39;49m\u001B[43mmodels\u001B[49m\u001B[38;5;241;43m.\u001B[39;49m\u001B[43mload_model\u001B[49m\u001B[43m(\u001B[49m\u001B[38;5;124;43m'\u001B[39;49m\u001B[38;5;124;43mmodel_3d_with_other\u001B[39;49m\u001B[38;5;124;43m'\u001B[39;49m\u001B[43m)\u001B[49m\n\u001B[0;32m      2\u001B[0m test_model\u001B[38;5;241m.\u001B[39mevaluate(test_dataset)\n",
      "File \u001B[1;32mC:\\Anaconda\\envs\\tf\\lib\\site-packages\\keras\\utils\\traceback_utils.py:70\u001B[0m, in \u001B[0;36mfilter_traceback.<locals>.error_handler\u001B[1;34m(*args, **kwargs)\u001B[0m\n\u001B[0;32m     67\u001B[0m     filtered_tb \u001B[38;5;241m=\u001B[39m _process_traceback_frames(e\u001B[38;5;241m.\u001B[39m__traceback__)\n\u001B[0;32m     68\u001B[0m     \u001B[38;5;66;03m# To get the full stack trace, call:\u001B[39;00m\n\u001B[0;32m     69\u001B[0m     \u001B[38;5;66;03m# `tf.debugging.disable_traceback_filtering()`\u001B[39;00m\n\u001B[1;32m---> 70\u001B[0m     \u001B[38;5;28;01mraise\u001B[39;00m e\u001B[38;5;241m.\u001B[39mwith_traceback(filtered_tb) \u001B[38;5;28;01mfrom\u001B[39;00m \u001B[38;5;28mNone\u001B[39m\n\u001B[0;32m     71\u001B[0m \u001B[38;5;28;01mfinally\u001B[39;00m:\n\u001B[0;32m     72\u001B[0m     \u001B[38;5;28;01mdel\u001B[39;00m filtered_tb\n",
      "File \u001B[1;32mC:\\Anaconda\\envs\\tf\\lib\\site-packages\\keras\\utils\\generic_utils.py:605\u001B[0m, in \u001B[0;36mclass_and_config_for_serialized_keras_object\u001B[1;34m(config, module_objects, custom_objects, printable_module_name)\u001B[0m\n\u001B[0;32m    603\u001B[0m \u001B[38;5;28mcls\u001B[39m \u001B[38;5;241m=\u001B[39m get_registered_object(class_name, custom_objects, module_objects)\n\u001B[0;32m    604\u001B[0m \u001B[38;5;28;01mif\u001B[39;00m \u001B[38;5;28mcls\u001B[39m \u001B[38;5;129;01mis\u001B[39;00m \u001B[38;5;28;01mNone\u001B[39;00m:\n\u001B[1;32m--> 605\u001B[0m     \u001B[38;5;28;01mraise\u001B[39;00m \u001B[38;5;167;01mValueError\u001B[39;00m(\n\u001B[0;32m    606\u001B[0m         \u001B[38;5;124mf\u001B[39m\u001B[38;5;124m\"\u001B[39m\u001B[38;5;124mUnknown \u001B[39m\u001B[38;5;132;01m{\u001B[39;00mprintable_module_name\u001B[38;5;132;01m}\u001B[39;00m\u001B[38;5;124m: \u001B[39m\u001B[38;5;132;01m{\u001B[39;00mclass_name\u001B[38;5;132;01m}\u001B[39;00m\u001B[38;5;124m. \u001B[39m\u001B[38;5;124m\"\u001B[39m\n\u001B[0;32m    607\u001B[0m         \u001B[38;5;124m\"\u001B[39m\u001B[38;5;124mPlease ensure this \u001B[39m\u001B[38;5;124m\"\u001B[39m\n\u001B[0;32m    608\u001B[0m         \u001B[38;5;124m\"\u001B[39m\u001B[38;5;124mobject is passed to the `custom_objects` argument. See \u001B[39m\u001B[38;5;124m\"\u001B[39m\n\u001B[0;32m    609\u001B[0m         \u001B[38;5;124m\"\u001B[39m\u001B[38;5;124mhttps://www.tensorflow.org/guide/keras/save_and_serialize\u001B[39m\u001B[38;5;124m\"\u001B[39m\n\u001B[0;32m    610\u001B[0m         \u001B[38;5;124m\"\u001B[39m\u001B[38;5;124m#registering_the_custom_object for details.\u001B[39m\u001B[38;5;124m\"\u001B[39m\n\u001B[0;32m    611\u001B[0m     )\n\u001B[0;32m    613\u001B[0m cls_config \u001B[38;5;241m=\u001B[39m config[\u001B[38;5;124m\"\u001B[39m\u001B[38;5;124mconfig\u001B[39m\u001B[38;5;124m\"\u001B[39m]\n\u001B[0;32m    614\u001B[0m \u001B[38;5;66;03m# Check if `cls_config` is a list. If it is a list, return the class and the\u001B[39;00m\n\u001B[0;32m    615\u001B[0m \u001B[38;5;66;03m# associated class configs for recursively deserialization. This case will\u001B[39;00m\n\u001B[0;32m    616\u001B[0m \u001B[38;5;66;03m# happen on the old version of sequential model (e.g. `keras_version` ==\u001B[39;00m\n\u001B[0;32m    617\u001B[0m \u001B[38;5;66;03m# \"2.0.6\"), which is serialized in a different structure, for example\u001B[39;00m\n\u001B[0;32m    618\u001B[0m \u001B[38;5;66;03m# \"{'class_name': 'Sequential',\u001B[39;00m\n\u001B[0;32m    619\u001B[0m \u001B[38;5;66;03m#   'config': [{'class_name': 'Embedding', 'config': ...}, {}, ...]}\".\u001B[39;00m\n",
      "\u001B[1;31mValueError\u001B[0m: Unknown regularizer: OrthogonalRegularizerTest. Please ensure this object is passed to the `custom_objects` argument. See https://www.tensorflow.org/guide/keras/save_and_serialize#registering_the_custom_object for details."
     ]
    }
   ],
   "source": [
    "test_model = keras.models.load_model('model_3d_with_other')\n",
    "test_model.evaluate(test_dataset)"
   ]
  },
  {
   "cell_type": "code",
   "execution_count": null,
   "id": "2b1ebbe0",
   "metadata": {},
   "outputs": [],
   "source": []
  }
 ],
 "metadata": {
  "kernelspec": {
   "display_name": "Python 3 (ipykernel)",
   "language": "python",
   "name": "python3"
  },
  "language_info": {
   "codemirror_mode": {
    "name": "ipython",
    "version": 3
   },
   "file_extension": ".py",
   "mimetype": "text/x-python",
   "name": "python",
   "nbconvert_exporter": "python",
   "pygments_lexer": "ipython3",
   "version": "3.9.16"
  }
 },
 "nbformat": 4,
 "nbformat_minor": 5
}
