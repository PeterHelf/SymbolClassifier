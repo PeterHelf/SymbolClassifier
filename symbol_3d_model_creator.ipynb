{
 "cells": [
  {
   "cell_type": "code",
   "execution_count": 57,
   "id": "9ad1ffec",
   "metadata": {},
   "outputs": [],
   "source": [
    "import tensorflow as tf\n",
    "import numpy as np\n",
    "import pandas as pd\n",
    "import matplotlib.pyplot as plt\n",
    "from sklearn.model_selection import train_test_split\n",
    "from keras.models import Sequential\n",
    "from keras.layers import Dense, Conv1D\n",
    "from keras.optimizers import SGD\n",
    "from numpy.random import uniform\n",
    "import keras\n",
    "from tensorflow.keras import layers"
   ]
  },
  {
   "cell_type": "code",
   "execution_count": 58,
   "id": "ff555cc1",
   "metadata": {},
   "outputs": [],
   "source": [
    "def generate_mixed_shape(shape1, shape2, shape3, shape4):\n",
    "    shape = []\n",
    "    shape.extend(shape1[:15].tolist())\n",
    "    shape.extend(shape2[15:30].tolist())\n",
    "    shape.extend(shape3[30:45].tolist())\n",
    "    shape.extend(shape4[45:60].tolist())\n",
    "    return pd.DataFrame([shape])"
   ]
  },
  {
   "cell_type": "code",
   "execution_count": 59,
   "id": "ad096329",
   "metadata": {},
   "outputs": [],
   "source": [
    "def generate_noisy_shape(shape):\n",
    "    noisyShape = []\n",
    "    for val in shape:\n",
    "        noisyShape.append(val + uniform(-0.3, 0.3))\n",
    "    return pd.DataFrame([noisyShape])"
   ]
  },
  {
   "cell_type": "code",
   "execution_count": 60,
   "id": "7c64b0a1",
   "metadata": {},
   "outputs": [],
   "source": [
    "symbol_data = pd.read_csv(\"runesheet.csv\", header=None)\n",
    "X = symbol_data.iloc[:, :-1]\n",
    "Y = symbol_data.iloc[:,-1:]\n",
    "Y = Y.replace(\"Time\", 0)\n",
    "Y = Y.replace(\"Wind\", 1)\n",
    "\n",
    "for i in range(100):\n",
    "    random_symbols = X.sample(n=4)\n",
    "    X = pd.concat([X, generate_mixed_shape(random_symbols.iloc[0], random_symbols.iloc[1], random_symbols.iloc[2], random_symbols.iloc[3])])\n",
    "    Y = pd.concat([Y, pd.DataFrame([2], columns =[60])])\n",
    " \n",
    "for i in range(100):\n",
    "    random_symbol = X.sample(n=1)\n",
    "    X = pd.concat([X, pd.DataFrame(generate_noisy_shape(random_symbol.iloc[0]))])\n",
    "    Y = pd.concat([Y, pd.DataFrame([2], columns =[60])])\n",
    "\n",
    "x_train, x_test, y_train, y_test = train_test_split(np.array(X), Y, test_size=0.20)\n",
    "\n",
    "\n",
    "y_test = y_test.values.flatten()\n",
    "y_train = y_train.values.flatten()"
   ]
  },
  {
   "cell_type": "code",
   "execution_count": 61,
   "id": "c6b0492f",
   "metadata": {},
   "outputs": [],
   "source": [
    "x_train_3d = [np.array(x_train[i]).reshape(-1, 3) for i in range(len(x_train))]\n",
    "x_test_3d = [np.array(x_test[i]).reshape(-1, 3) for i in range(len(x_test))]\n",
    "\n",
    "x_train_3d = tf.stack(x_train_3d)\n",
    "x_test_3d = tf.stack(x_test_3d)"
   ]
  },
  {
   "cell_type": "code",
   "execution_count": 62,
   "id": "c4f6a9c7",
   "metadata": {
    "scrolled": true
   },
   "outputs": [
    {
     "name": "stdout",
     "output_type": "stream",
     "text": [
      "tf.Tensor(\n",
      "[[[4.237548e-03 9.607775e-01 1.306640e-06]\n",
      "  [2.061889e-01 9.442531e-01 4.057086e-05]\n",
      "  [4.017783e-01 9.296216e-01 6.573173e-05]\n",
      "  ...\n",
      "  [2.457190e-01 6.611287e-01 6.046515e-05]\n",
      "  [1.129363e-01 8.064693e-01 3.977765e-05]\n",
      "  [6.671949e-02 1.000000e+00 0.000000e+00]]\n",
      "\n",
      " [[2.471066e-01 7.932203e-01 1.613380e-04]\n",
      "  [4.538770e-01 7.588293e-01 2.099387e-04]\n",
      "  [6.556321e-01 7.336606e-01 2.389850e-04]\n",
      "  ...\n",
      "  [3.350233e-01 6.479304e-01 7.524882e-05]\n",
      "  [1.897768e-01 8.206309e-01 2.107760e-05]\n",
      "  [1.595774e-01 8.670112e-01 7.383891e-06]]\n",
      "\n",
      " [[0.000000e+00 2.603798e-01 0.000000e+00]\n",
      "  [8.989055e-02 1.417963e-01 1.873172e-05]\n",
      "  [2.110130e-01 6.699613e-02 4.659815e-05]\n",
      "  ...\n",
      "  [6.940861e-01 4.659708e-01 8.650569e-05]\n",
      "  [6.602351e-01 4.458355e-01 6.623095e-05]\n",
      "  [6.602351e-01 4.458355e-01 6.623095e-05]]\n",
      "\n",
      " ...\n",
      "\n",
      " [[2.570388e-02 9.841479e-01 5.753704e-05]\n",
      "  [2.461820e-01 9.909400e-01 9.400595e-05]\n",
      "  [4.604935e-01 9.931352e-01 1.078419e-04]\n",
      "  ...\n",
      "  [3.162277e-01 6.610068e-01 8.446259e-05]\n",
      "  [1.439727e-01 7.940636e-01 4.325094e-05]\n",
      "  [3.733345e-02 9.479026e-01 0.000000e+00]]\n",
      "\n",
      " [[0.000000e+00 2.832484e-02 0.000000e+00]\n",
      "  [1.247381e-01 9.604629e-02 4.435223e-05]\n",
      "  [2.438809e-01 1.135016e-01 8.479712e-05]\n",
      "  ...\n",
      "  [6.940861e-01 4.659708e-01 8.650569e-05]\n",
      "  [6.602351e-01 4.458355e-01 6.623095e-05]\n",
      "  [6.602351e-01 4.458355e-01 6.623095e-05]]\n",
      "\n",
      " [[1.006992e-01 9.113192e-01 2.854285e-05]\n",
      "  [2.973652e-01 8.903849e-01 6.510642e-05]\n",
      "  [4.862764e-01 8.456613e-01 8.499605e-05]\n",
      "  ...\n",
      "  [2.498731e-01 6.283857e-01 1.013179e-04]\n",
      "  [1.665441e-01 7.976326e-01 6.330177e-05]\n",
      "  [3.530264e-02 1.000000e+00 0.000000e+00]]], shape=(120, 20, 3), dtype=float64)\n"
     ]
    }
   ],
   "source": [
    "print(x_test_3d)"
   ]
  },
  {
   "cell_type": "code",
   "execution_count": 63,
   "id": "2a492ff6",
   "metadata": {},
   "outputs": [
    {
     "data": {
      "image/png": "[encoded data removed]",
      "text/plain": [
       "<Figure size 500x500 with 1 Axes>"
      ]
     },
     "metadata": {},
     "output_type": "display_data"
    }
   ],
   "source": [
    "fig = plt.figure(figsize=(5, 5))\n",
    "ax = fig.add_subplot(111, projection=\"3d\")\n",
    "points = x_train_3d[4]\n",
    "ax.scatter(points[:, 0], points[:, 1], points[:, 2])\n",
    "ax.set_axis_off()\n",
    "ax.view_init(elev=90, azim=0, roll=90)\n",
    "plt.show()"
   ]
  },
  {
   "cell_type": "code",
   "execution_count": 64,
   "id": "9d24f8cb",
   "metadata": {},
   "outputs": [],
   "source": [
    "def augment(points, label):\n",
    "    # jitter points\n",
    "    points += tf.random.uniform(points.shape, -0.005, 0.005, dtype=tf.float64)\n",
    "    # shuffle points\n",
    "    points = tf.random.shuffle(points)\n",
    "    return points, label"
   ]
  },
  {
   "cell_type": "code",
   "execution_count": 65,
   "id": "f73b6de1",
   "metadata": {},
   "outputs": [],
   "source": [
    "NUM_POINTS = 20\n",
    "NUM_CLASSES = 3\n",
    "BATCH_SIZE = 32\n",
    "\n",
    "train_dataset = tf.data.Dataset.from_tensor_slices((x_train_3d, y_train))\n",
    "test_dataset = tf.data.Dataset.from_tensor_slices((x_test_3d, y_test))\n",
    "\n",
    "train_dataset = train_dataset.shuffle(len(x_train_3d)).map(augment).batch(BATCH_SIZE)\n",
    "test_dataset = test_dataset.shuffle(len(x_test_3d)).batch(BATCH_SIZE)"
   ]
  },
  {
   "cell_type": "code",
   "execution_count": 66,
   "id": "d5e52d74",
   "metadata": {},
   "outputs": [
    {
     "data": {
      "text/plain": [
       "<BatchDataset element_spec=(TensorSpec(shape=(None, 20, 3), dtype=tf.float64, name=None), TensorSpec(shape=(None,), dtype=tf.int64, name=None))>"
      ]
     },
     "execution_count": 66,
     "metadata": {},
     "output_type": "execute_result"
    }
   ],
   "source": [
    "train_dataset"
   ]
  },
  {
   "cell_type": "code",
   "execution_count": 67,
   "id": "4fd939b0",
   "metadata": {},
   "outputs": [],
   "source": [
    "def conv_bn(x, filters):\n",
    "    x = layers.Conv1D(filters, kernel_size=1, padding=\"valid\")(x)\n",
    "    x = layers.BatchNormalization(momentum=0.0)(x)\n",
    "    return layers.Activation(\"relu\")(x)\n",
    "\n",
    "\n",
    "def dense_bn(x, filters):\n",
    "    x = layers.Dense(filters)(x)\n",
    "    x = layers.BatchNormalization(momentum=0.0)(x)\n",
    "    return layers.Activation(\"relu\")(x)"
   ]
  },
  {
   "cell_type": "code",
   "execution_count": 68,
   "id": "6ed052fc",
   "metadata": {},
   "outputs": [],
   "source": [
    "class OrthogonalRegularizerTest(keras.regularizers.Regularizer):\n",
    "    def __init__(self, num_features, l2reg=0.001):\n",
    "        self.num_features = num_features\n",
    "        self.l2reg = l2reg\n",
    "        self.eye = tf.eye(num_features)\n",
    "\n",
    "    def __call__(self, x):\n",
    "        x = tf.reshape(x, (-1, self.num_features, self.num_features))\n",
    "        xxt = tf.tensordot(x, x, axes=(2, 2))\n",
    "        xxt = tf.reshape(xxt, (-1, self.num_features, self.num_features))\n",
    "        return tf.reduce_sum(self.l2reg * tf.square(xxt - self.eye))\n",
    "    \n",
    "    def get_config(self):\n",
    "        return {'num_features': float(self.num_features), 'l2reg': float(self.l2reg)}"
   ]
  },
  {
   "cell_type": "code",
   "execution_count": 69,
   "id": "2dd07e3d",
   "metadata": {},
   "outputs": [
    {
     "data": {
      "text/plain": [
       "tensorflow.python.framework.ops.EagerTensor"
      ]
     },
     "execution_count": 69,
     "metadata": {},
     "output_type": "execute_result"
    }
   ],
   "source": [
    "type(tf.eye(3))"
   ]
  },
  {
   "cell_type": "code",
   "execution_count": 70,
   "id": "1a044a08",
   "metadata": {},
   "outputs": [],
   "source": [
    "def tnet(inputs, num_features):\n",
    "\n",
    "    # Initalise bias as the indentity matrix\n",
    "    bias = keras.initializers.Constant(np.eye(num_features).flatten())\n",
    "    reg = OrthogonalRegularizerTest(num_features)\n",
    "\n",
    "    x = conv_bn(inputs, 32)\n",
    "    x = conv_bn(x, 64)\n",
    "    x = conv_bn(x, 512)\n",
    "    x = layers.GlobalMaxPooling1D()(x)\n",
    "    x = dense_bn(x, 256)\n",
    "    x = dense_bn(x, 128)\n",
    "    x = layers.Dense(\n",
    "        num_features * num_features,\n",
    "        kernel_initializer=\"zeros\",\n",
    "        bias_initializer=bias,\n",
    "        activity_regularizer=reg,\n",
    "    )(x)\n",
    "    feat_T = layers.Reshape((num_features, num_features))(x)\n",
    "    # Apply affine transformation to input features\n",
    "    return layers.Dot(axes=(2, 1))([inputs, feat_T])"
   ]
  },
  {
   "cell_type": "code",
   "execution_count": 71,
   "id": "f456f908",
   "metadata": {
    "scrolled": true
   },
   "outputs": [
    {
     "name": "stdout",
     "output_type": "stream",
     "text": [
      "Model: \"pointnet\"\n",
      "__________________________________________________________________________________________________\n",
      " Layer (type)                   Output Shape         Param #     Connected to                     \n",
      "==================================================================================================\n",
      " input_13 (InputLayer)          [(None, 20, 3)]      0           []                               \n",
      "                                                                                                  \n",
      " conv1d_65 (Conv1D)             (None, 20, 32)       128         ['input_13[0][0]']               \n",
      "                                                                                                  \n",
      " batch_normalization_103 (Batch  (None, 20, 32)      128         ['conv1d_65[0][0]']              \n",
      " Normalization)                                                                                   \n",
      "                                                                                                  \n",
      " activation_103 (Activation)    (None, 20, 32)       0           ['batch_normalization_103[0][0]']\n",
      "                                                                                                  \n",
      " conv1d_66 (Conv1D)             (None, 20, 64)       2112        ['activation_103[0][0]']         \n",
      "                                                                                                  \n",
      " batch_normalization_104 (Batch  (None, 20, 64)      256         ['conv1d_66[0][0]']              \n",
      " Normalization)                                                                                   \n",
      "                                                                                                  \n",
      " activation_104 (Activation)    (None, 20, 64)       0           ['batch_normalization_104[0][0]']\n",
      "                                                                                                  \n",
      " conv1d_67 (Conv1D)             (None, 20, 512)      33280       ['activation_104[0][0]']         \n",
      "                                                                                                  \n",
      " batch_normalization_105 (Batch  (None, 20, 512)     2048        ['conv1d_67[0][0]']              \n",
      " Normalization)                                                                                   \n",
      "                                                                                                  \n",
      " activation_105 (Activation)    (None, 20, 512)      0           ['batch_normalization_105[0][0]']\n",
      "                                                                                                  \n",
      " global_max_pooling1d_19 (Globa  (None, 512)         0           ['activation_105[0][0]']         \n",
      " lMaxPooling1D)                                                                                   \n",
      "                                                                                                  \n",
      " dense_56 (Dense)               (None, 256)          131328      ['global_max_pooling1d_19[0][0]']\n",
      "                                                                                                  \n",
      " batch_normalization_106 (Batch  (None, 256)         1024        ['dense_56[0][0]']               \n",
      " Normalization)                                                                                   \n",
      "                                                                                                  \n",
      " activation_106 (Activation)    (None, 256)          0           ['batch_normalization_106[0][0]']\n",
      "                                                                                                  \n",
      " dense_57 (Dense)               (None, 128)          32896       ['activation_106[0][0]']         \n",
      "                                                                                                  \n",
      " batch_normalization_107 (Batch  (None, 128)         512         ['dense_57[0][0]']               \n",
      " Normalization)                                                                                   \n",
      "                                                                                                  \n",
      " activation_107 (Activation)    (None, 128)          0           ['batch_normalization_107[0][0]']\n",
      "                                                                                                  \n",
      " dense_58 (Dense)               (None, 9)            1161        ['activation_107[0][0]']         \n",
      "                                                                                                  \n",
      " reshape_9 (Reshape)            (None, 3, 3)         0           ['dense_58[0][0]']               \n",
      "                                                                                                  \n",
      " dot_8 (Dot)                    (None, 20, 3)        0           ['input_13[0][0]',               \n",
      "                                                                  'reshape_9[0][0]']              \n",
      "                                                                                                  \n",
      " conv1d_68 (Conv1D)             (None, 20, 32)       128         ['dot_8[0][0]']                  \n",
      "                                                                                                  \n",
      " batch_normalization_108 (Batch  (None, 20, 32)      128         ['conv1d_68[0][0]']              \n",
      " Normalization)                                                                                   \n",
      "                                                                                                  \n",
      " activation_108 (Activation)    (None, 20, 32)       0           ['batch_normalization_108[0][0]']\n",
      "                                                                                                  \n",
      " conv1d_69 (Conv1D)             (None, 20, 32)       1056        ['activation_108[0][0]']         \n",
      "                                                                                                  \n",
      " batch_normalization_109 (Batch  (None, 20, 32)      128         ['conv1d_69[0][0]']              \n",
      " Normalization)                                                                                   \n",
      "                                                                                                  \n",
      " activation_109 (Activation)    (None, 20, 32)       0           ['batch_normalization_109[0][0]']\n",
      "                                                                                                  \n",
      " conv1d_70 (Conv1D)             (None, 20, 32)       1056        ['activation_109[0][0]']         \n",
      "                                                                                                  \n",
      " batch_normalization_110 (Batch  (None, 20, 32)      128         ['conv1d_70[0][0]']              \n",
      " Normalization)                                                                                   \n",
      "                                                                                                  \n",
      " activation_110 (Activation)    (None, 20, 32)       0           ['batch_normalization_110[0][0]']\n",
      "                                                                                                  \n",
      " conv1d_71 (Conv1D)             (None, 20, 64)       2112        ['activation_110[0][0]']         \n",
      "                                                                                                  \n",
      " batch_normalization_111 (Batch  (None, 20, 64)      256         ['conv1d_71[0][0]']              \n",
      " Normalization)                                                                                   \n",
      "                                                                                                  \n",
      " activation_111 (Activation)    (None, 20, 64)       0           ['batch_normalization_111[0][0]']\n",
      "                                                                                                  \n",
      " conv1d_72 (Conv1D)             (None, 20, 512)      33280       ['activation_111[0][0]']         \n",
      "                                                                                                  \n",
      " batch_normalization_112 (Batch  (None, 20, 512)     2048        ['conv1d_72[0][0]']              \n",
      " Normalization)                                                                                   \n",
      "                                                                                                  \n"
     ]
    },
    {
     "name": "stdout",
     "output_type": "stream",
     "text": [
      " activation_112 (Activation)    (None, 20, 512)      0           ['batch_normalization_112[0][0]']\n",
      "                                                                                                  \n",
      " global_max_pooling1d_20 (Globa  (None, 512)         0           ['activation_112[0][0]']         \n",
      " lMaxPooling1D)                                                                                   \n",
      "                                                                                                  \n",
      " dense_59 (Dense)               (None, 256)          131328      ['global_max_pooling1d_20[0][0]']\n",
      "                                                                                                  \n",
      " batch_normalization_113 (Batch  (None, 256)         1024        ['dense_59[0][0]']               \n",
      " Normalization)                                                                                   \n",
      "                                                                                                  \n",
      " activation_113 (Activation)    (None, 256)          0           ['batch_normalization_113[0][0]']\n",
      "                                                                                                  \n",
      " dense_60 (Dense)               (None, 128)          32896       ['activation_113[0][0]']         \n",
      "                                                                                                  \n",
      " batch_normalization_114 (Batch  (None, 128)         512         ['dense_60[0][0]']               \n",
      " Normalization)                                                                                   \n",
      "                                                                                                  \n",
      " activation_114 (Activation)    (None, 128)          0           ['batch_normalization_114[0][0]']\n",
      "                                                                                                  \n",
      " dense_61 (Dense)               (None, 1024)         132096      ['activation_114[0][0]']         \n",
      "                                                                                                  \n",
      " reshape_10 (Reshape)           (None, 32, 32)       0           ['dense_61[0][0]']               \n",
      "                                                                                                  \n",
      " dot_9 (Dot)                    (None, 20, 32)       0           ['activation_109[0][0]',         \n",
      "                                                                  'reshape_10[0][0]']             \n",
      "                                                                                                  \n",
      " conv1d_73 (Conv1D)             (None, 20, 32)       1056        ['dot_9[0][0]']                  \n",
      "                                                                                                  \n",
      " batch_normalization_115 (Batch  (None, 20, 32)      128         ['conv1d_73[0][0]']              \n",
      " Normalization)                                                                                   \n",
      "                                                                                                  \n",
      " activation_115 (Activation)    (None, 20, 32)       0           ['batch_normalization_115[0][0]']\n",
      "                                                                                                  \n",
      " conv1d_74 (Conv1D)             (None, 20, 64)       2112        ['activation_115[0][0]']         \n",
      "                                                                                                  \n",
      " batch_normalization_116 (Batch  (None, 20, 64)      256         ['conv1d_74[0][0]']              \n",
      " Normalization)                                                                                   \n",
      "                                                                                                  \n",
      " activation_116 (Activation)    (None, 20, 64)       0           ['batch_normalization_116[0][0]']\n",
      "                                                                                                  \n",
      " conv1d_75 (Conv1D)             (None, 20, 512)      33280       ['activation_116[0][0]']         \n",
      "                                                                                                  \n",
      " batch_normalization_117 (Batch  (None, 20, 512)     2048        ['conv1d_75[0][0]']              \n",
      " Normalization)                                                                                   \n",
      "                                                                                                  \n",
      " activation_117 (Activation)    (None, 20, 512)      0           ['batch_normalization_117[0][0]']\n",
      "                                                                                                  \n",
      " global_max_pooling1d_21 (Globa  (None, 512)         0           ['activation_117[0][0]']         \n",
      " lMaxPooling1D)                                                                                   \n",
      "                                                                                                  \n",
      " dense_62 (Dense)               (None, 256)          131328      ['global_max_pooling1d_21[0][0]']\n",
      "                                                                                                  \n",
      " batch_normalization_118 (Batch  (None, 256)         1024        ['dense_62[0][0]']               \n",
      " Normalization)                                                                                   \n",
      "                                                                                                  \n",
      " activation_118 (Activation)    (None, 256)          0           ['batch_normalization_118[0][0]']\n",
      "                                                                                                  \n",
      " dropout_8 (Dropout)            (None, 256)          0           ['activation_118[0][0]']         \n",
      "                                                                                                  \n",
      " dense_63 (Dense)               (None, 128)          32896       ['dropout_8[0][0]']              \n",
      "                                                                                                  \n",
      " batch_normalization_119 (Batch  (None, 128)         512         ['dense_63[0][0]']               \n",
      " Normalization)                                                                                   \n",
      "                                                                                                  \n",
      " activation_119 (Activation)    (None, 128)          0           ['batch_normalization_119[0][0]']\n",
      "                                                                                                  \n",
      " dropout_9 (Dropout)            (None, 128)          0           ['activation_119[0][0]']         \n",
      "                                                                                                  \n",
      " dense_64 (Dense)               (None, 3)            387         ['dropout_9[0][0]']              \n",
      "                                                                                                  \n",
      "==================================================================================================\n",
      "Total params: 748,076\n",
      "Trainable params: 741,996\n",
      "Non-trainable params: 6,080\n",
      "__________________________________________________________________________________________________\n"
     ]
    }
   ],
   "source": [
    "inputs = keras.Input(shape=(NUM_POINTS, 3))\n",
    "\n",
    "x = tnet(inputs, 3)\n",
    "x = conv_bn(x, 32)\n",
    "x = conv_bn(x, 32)\n",
    "x = tnet(x, 32)\n",
    "x = conv_bn(x, 32)\n",
    "x = conv_bn(x, 64)\n",
    "x = conv_bn(x, 512)\n",
    "x = layers.GlobalMaxPooling1D()(x)\n",
    "x = dense_bn(x, 256)\n",
    "x = layers.Dropout(0.3)(x)\n",
    "x = dense_bn(x, 128)\n",
    "x = layers.Dropout(0.3)(x)\n",
    "\n",
    "outputs = layers.Dense(NUM_CLASSES, activation=\"softmax\")(x)\n",
    "\n",
    "model = keras.Model(inputs=inputs, outputs=outputs, name=\"pointnet\")\n",
    "model.summary()"
   ]
  },
  {
   "cell_type": "code",
   "execution_count": 72,
   "id": "c61d5d05",
   "metadata": {},
   "outputs": [
    {
     "name": "stdout",
     "output_type": "stream",
     "text": [
      "Epoch 1/20\n",
      "15/15 [==============================] - 11s 159ms/step - loss: 2.2547 - sparse_categorical_accuracy: 0.7854 - val_loss: 1.6163 - val_sparse_categorical_accuracy: 0.8583\n",
      "Epoch 2/20\n",
      "15/15 [==============================] - 1s 88ms/step - loss: 1.5829 - sparse_categorical_accuracy: 0.8813 - val_loss: 1.6493 - val_sparse_categorical_accuracy: 0.8833\n",
      "Epoch 3/20\n",
      "15/15 [==============================] - 2s 105ms/step - loss: 1.4582 - sparse_categorical_accuracy: 0.8896 - val_loss: 1.4933 - val_sparse_categorical_accuracy: 0.8833\n",
      "Epoch 4/20\n",
      "15/15 [==============================] - 1s 98ms/step - loss: 1.4060 - sparse_categorical_accuracy: 0.9146 - val_loss: 1.3649 - val_sparse_categorical_accuracy: 0.9250\n",
      "Epoch 5/20\n",
      "15/15 [==============================] - 1s 83ms/step - loss: 1.3573 - sparse_categorical_accuracy: 0.9229 - val_loss: 1.3087 - val_sparse_categorical_accuracy: 0.9250\n",
      "Epoch 6/20\n",
      "15/15 [==============================] - 1s 79ms/step - loss: 1.3854 - sparse_categorical_accuracy: 0.9292 - val_loss: 2.3850 - val_sparse_categorical_accuracy: 0.8583\n",
      "Epoch 7/20\n",
      "15/15 [==============================] - 2s 105ms/step - loss: 1.3842 - sparse_categorical_accuracy: 0.9146 - val_loss: 1.3472 - val_sparse_categorical_accuracy: 0.9250\n",
      "Epoch 8/20\n",
      "15/15 [==============================] - 2s 102ms/step - loss: 1.4143 - sparse_categorical_accuracy: 0.9146 - val_loss: 1.3280 - val_sparse_categorical_accuracy: 0.9333\n",
      "Epoch 9/20\n",
      "15/15 [==============================] - 1s 78ms/step - loss: 1.2961 - sparse_categorical_accuracy: 0.9500 - val_loss: 1.3298 - val_sparse_categorical_accuracy: 0.9333\n",
      "Epoch 10/20\n",
      "15/15 [==============================] - 1s 76ms/step - loss: 1.2488 - sparse_categorical_accuracy: 0.9604 - val_loss: 1.2254 - val_sparse_categorical_accuracy: 0.9500\n",
      "Epoch 11/20\n",
      "15/15 [==============================] - 1s 82ms/step - loss: 1.2794 - sparse_categorical_accuracy: 0.9563 - val_loss: 1.2405 - val_sparse_categorical_accuracy: 0.9417\n",
      "Epoch 12/20\n",
      "15/15 [==============================] - 1s 93ms/step - loss: 1.3356 - sparse_categorical_accuracy: 0.9271 - val_loss: 1.2915 - val_sparse_categorical_accuracy: 0.9500\n",
      "Epoch 13/20\n",
      "15/15 [==============================] - 1s 77ms/step - loss: 1.3328 - sparse_categorical_accuracy: 0.9333 - val_loss: 1.6031 - val_sparse_categorical_accuracy: 0.9417\n",
      "Epoch 14/20\n",
      "15/15 [==============================] - 1s 78ms/step - loss: 1.2525 - sparse_categorical_accuracy: 0.9583 - val_loss: 1.2290 - val_sparse_categorical_accuracy: 0.9500\n",
      "Epoch 15/20\n",
      "15/15 [==============================] - 1s 77ms/step - loss: 1.2092 - sparse_categorical_accuracy: 0.9604 - val_loss: 1.3113 - val_sparse_categorical_accuracy: 0.9250\n",
      "Epoch 16/20\n",
      "15/15 [==============================] - 1s 78ms/step - loss: 1.2494 - sparse_categorical_accuracy: 0.9563 - val_loss: 1.2218 - val_sparse_categorical_accuracy: 0.9583\n",
      "Epoch 17/20\n",
      "15/15 [==============================] - 1s 75ms/step - loss: 1.2399 - sparse_categorical_accuracy: 0.9646 - val_loss: 1.3409 - val_sparse_categorical_accuracy: 0.9417\n",
      "Epoch 18/20\n",
      "15/15 [==============================] - 1s 77ms/step - loss: 1.2204 - sparse_categorical_accuracy: 0.9625 - val_loss: 1.3787 - val_sparse_categorical_accuracy: 0.9000\n",
      "Epoch 19/20\n",
      "15/15 [==============================] - 1s 76ms/step - loss: 1.2735 - sparse_categorical_accuracy: 0.9542 - val_loss: 1.3313 - val_sparse_categorical_accuracy: 0.9500\n",
      "Epoch 20/20\n",
      "15/15 [==============================] - 1s 77ms/step - loss: 1.2430 - sparse_categorical_accuracy: 0.9646 - val_loss: 1.3482 - val_sparse_categorical_accuracy: 0.8833\n"
     ]
    },
    {
     "data": {
      "text/plain": [
       "<keras.callbacks.History at 0x2cacb09a940>"
      ]
     },
     "execution_count": 72,
     "metadata": {},
     "output_type": "execute_result"
    }
   ],
   "source": [
    "model.compile(\n",
    "    loss=\"sparse_categorical_crossentropy\",\n",
    "    optimizer=keras.optimizers.Adam(learning_rate=0.001),\n",
    "    metrics=[\"sparse_categorical_accuracy\"],\n",
    ")\n",
    "\n",
    "model.fit(train_dataset, epochs=20, validation_data=test_dataset)"
   ]
  },
  {
   "cell_type": "code",
   "execution_count": 73,
   "id": "f6eb7d3d",
   "metadata": {},
   "outputs": [
    {
     "name": "stdout",
     "output_type": "stream",
     "text": [
      "1/1 [==============================] - 1s 1s/step\n"
     ]
    },
    {
     "data": {
      "image/png": "[encoded data removed]",
      "text/plain": [
       "<Figure size 1500x1000 with 8 Axes>"
      ]
     },
     "metadata": {},
     "output_type": "display_data"
    }
   ],
   "source": [
    "class_map = {}\n",
    "class_map[0] = \"Time\"\n",
    "class_map[1] = \"Wind\"\n",
    "class_map[2] = \"Other\"\n",
    "\n",
    "data = test_dataset.take(1)\n",
    "\n",
    "points, labels = list(data)[0]\n",
    "points = points[:8, ...]\n",
    "labels = labels[:8, ...]\n",
    "\n",
    "# run test data through model\n",
    "preds = model.predict(points)\n",
    "preds = tf.math.argmax(preds, -1)\n",
    "\n",
    "points = points.numpy()\n",
    "\n",
    "# plot points with predicted class and label\n",
    "fig = plt.figure(figsize=(15, 10))\n",
    "for i in range(8):\n",
    "    ax = fig.add_subplot(2, 4, i + 1, projection=\"3d\")\n",
    "    ax.scatter(points[i, :, 0], points[i, :, 1], points[i, :, 2])\n",
    "    ax.set_title(\n",
    "        \"pred: {:}, label: {:}\".format(\n",
    "            class_map[preds[i].numpy()], class_map[labels.numpy()[i]]\n",
    "        )\n",
    "    )\n",
    "    ax.set_axis_off()    \n",
    "    ax.view_init(elev=90, azim=0, roll=90)\n",
    "plt.show()\n"
   ]
  },
  {
   "cell_type": "code",
   "execution_count": 74,
   "id": "de8482ff",
   "metadata": {},
   "outputs": [
    {
     "name": "stderr",
     "output_type": "stream",
     "text": [
      "WARNING:absl:Found untraced functions such as _jit_compiled_convolution_op, _jit_compiled_convolution_op, _jit_compiled_convolution_op, _jit_compiled_convolution_op, _jit_compiled_convolution_op while saving (showing 5 of 11). These functions will not be directly callable after loading.\n"
     ]
    },
    {
     "name": "stdout",
     "output_type": "stream",
     "text": [
      "INFO:tensorflow:Assets written to: model_3d_with_other\\assets\n"
     ]
    },
    {
     "name": "stderr",
     "output_type": "stream",
     "text": [
      "INFO:tensorflow:Assets written to: model_3d_with_other\\assets\n"
     ]
    }
   ],
   "source": [
    "model.save('model_3d_with_other')"
   ]
  },
  {
   "cell_type": "code",
   "execution_count": null,
   "id": "33da4ef1",
   "metadata": {},
   "outputs": [],
   "source": [
    "model.evaluate(test_dataset)"
   ]
  },
  {
   "cell_type": "code",
   "execution_count": null,
   "id": "e95c1907",
   "metadata": {},
   "outputs": [],
   "source": [
    "inverted_rune_data = pd.read_csv(\"InvertedRunes.csv\", header=None)\n",
    "inverted_runes_X = inverted_rune_data.iloc[:, :-1]\n",
    "\n",
    "inverted_runes_Y = inverted_rune_data.iloc[:,-1:]\n",
    "inverted_runes_Y = inverted_runes_Y.replace(\"Time\", 0)\n",
    "inverted_runes_Y = inverted_runes_Y.replace(\"Wind\", 1)\n",
    "\n",
    "inverted_runes_X_3d = [np.array(inverted_runes_X[i]).reshape(-1, 3) for i in range(len(inverted_runes_X))]\n",
    "inverted_runes_X_3d = tf.stack(inverted_runes_X_3d)"
   ]
  },
  {
   "cell_type": "code",
   "execution_count": null,
   "id": "998abf37",
   "metadata": {},
   "outputs": [],
   "source": [
    "fig = plt.figure(figsize=(5, 5))\n",
    "ax = fig.add_subplot(111, projection=\"3d\")\n",
    "points = inverted_runes_X_3d[2]\n",
    "ax.scatter(points[:, 0], points[:, 1], points[:, 2])\n",
    "ax.set_axis_off()\n",
    "ax.view_init(elev=90, azim=0, roll=90)\n",
    "plt.show()"
   ]
  },
  {
   "cell_type": "code",
   "execution_count": 75,
   "id": "c36fc43e",
   "metadata": {},
   "outputs": [
    {
     "ename": "ValueError",
     "evalue": "Unknown regularizer: OrthogonalRegularizerTest. Please ensure this object is passed to the `custom_objects` argument. See https://www.tensorflow.org/guide/keras/save_and_serialize#registering_the_custom_object for details.",
     "output_type": "error",
     "traceback": [
      "\u001b[1;31m---------------------------------------------------------------------------\u001b[0m",
      "\u001b[1;31mValueError\u001b[0m                                Traceback (most recent call last)",
      "Cell \u001b[1;32mIn[75], line 1\u001b[0m\n\u001b[1;32m----> 1\u001b[0m test_model \u001b[38;5;241m=\u001b[39m \u001b[43mkeras\u001b[49m\u001b[38;5;241;43m.\u001b[39;49m\u001b[43mmodels\u001b[49m\u001b[38;5;241;43m.\u001b[39;49m\u001b[43mload_model\u001b[49m\u001b[43m(\u001b[49m\u001b[38;5;124;43m'\u001b[39;49m\u001b[38;5;124;43mmodel_3d_with_other\u001b[39;49m\u001b[38;5;124;43m'\u001b[39;49m\u001b[43m)\u001b[49m\n\u001b[0;32m      2\u001b[0m test_model\u001b[38;5;241m.\u001b[39mevaluate(test_dataset)\n",
      "File \u001b[1;32mC:\\Anaconda\\envs\\tf\\lib\\site-packages\\keras\\utils\\traceback_utils.py:70\u001b[0m, in \u001b[0;36mfilter_traceback.<locals>.error_handler\u001b[1;34m(*args, **kwargs)\u001b[0m\n\u001b[0;32m     67\u001b[0m     filtered_tb \u001b[38;5;241m=\u001b[39m _process_traceback_frames(e\u001b[38;5;241m.\u001b[39m__traceback__)\n\u001b[0;32m     68\u001b[0m     \u001b[38;5;66;03m# To get the full stack trace, call:\u001b[39;00m\n\u001b[0;32m     69\u001b[0m     \u001b[38;5;66;03m# `tf.debugging.disable_traceback_filtering()`\u001b[39;00m\n\u001b[1;32m---> 70\u001b[0m     \u001b[38;5;28;01mraise\u001b[39;00m e\u001b[38;5;241m.\u001b[39mwith_traceback(filtered_tb) \u001b[38;5;28;01mfrom\u001b[39;00m \u001b[38;5;28mNone\u001b[39m\n\u001b[0;32m     71\u001b[0m \u001b[38;5;28;01mfinally\u001b[39;00m:\n\u001b[0;32m     72\u001b[0m     \u001b[38;5;28;01mdel\u001b[39;00m filtered_tb\n",
      "File \u001b[1;32mC:\\Anaconda\\envs\\tf\\lib\\site-packages\\keras\\utils\\generic_utils.py:605\u001b[0m, in \u001b[0;36mclass_and_config_for_serialized_keras_object\u001b[1;34m(config, module_objects, custom_objects, printable_module_name)\u001b[0m\n\u001b[0;32m    603\u001b[0m \u001b[38;5;28mcls\u001b[39m \u001b[38;5;241m=\u001b[39m get_registered_object(class_name, custom_objects, module_objects)\n\u001b[0;32m    604\u001b[0m \u001b[38;5;28;01mif\u001b[39;00m \u001b[38;5;28mcls\u001b[39m \u001b[38;5;129;01mis\u001b[39;00m \u001b[38;5;28;01mNone\u001b[39;00m:\n\u001b[1;32m--> 605\u001b[0m     \u001b[38;5;28;01mraise\u001b[39;00m \u001b[38;5;167;01mValueError\u001b[39;00m(\n\u001b[0;32m    606\u001b[0m         \u001b[38;5;124mf\u001b[39m\u001b[38;5;124m\"\u001b[39m\u001b[38;5;124mUnknown \u001b[39m\u001b[38;5;132;01m{\u001b[39;00mprintable_module_name\u001b[38;5;132;01m}\u001b[39;00m\u001b[38;5;124m: \u001b[39m\u001b[38;5;132;01m{\u001b[39;00mclass_name\u001b[38;5;132;01m}\u001b[39;00m\u001b[38;5;124m. \u001b[39m\u001b[38;5;124m\"\u001b[39m\n\u001b[0;32m    607\u001b[0m         \u001b[38;5;124m\"\u001b[39m\u001b[38;5;124mPlease ensure this \u001b[39m\u001b[38;5;124m\"\u001b[39m\n\u001b[0;32m    608\u001b[0m         \u001b[38;5;124m\"\u001b[39m\u001b[38;5;124mobject is passed to the `custom_objects` argument. See \u001b[39m\u001b[38;5;124m\"\u001b[39m\n\u001b[0;32m    609\u001b[0m         \u001b[38;5;124m\"\u001b[39m\u001b[38;5;124mhttps://www.tensorflow.org/guide/keras/save_and_serialize\u001b[39m\u001b[38;5;124m\"\u001b[39m\n\u001b[0;32m    610\u001b[0m         \u001b[38;5;124m\"\u001b[39m\u001b[38;5;124m#registering_the_custom_object for details.\u001b[39m\u001b[38;5;124m\"\u001b[39m\n\u001b[0;32m    611\u001b[0m     )\n\u001b[0;32m    613\u001b[0m cls_config \u001b[38;5;241m=\u001b[39m config[\u001b[38;5;124m\"\u001b[39m\u001b[38;5;124mconfig\u001b[39m\u001b[38;5;124m\"\u001b[39m]\n\u001b[0;32m    614\u001b[0m \u001b[38;5;66;03m# Check if `cls_config` is a list. If it is a list, return the class and the\u001b[39;00m\n\u001b[0;32m    615\u001b[0m \u001b[38;5;66;03m# associated class configs for recursively deserialization. This case will\u001b[39;00m\n\u001b[0;32m    616\u001b[0m \u001b[38;5;66;03m# happen on the old version of sequential model (e.g. `keras_version` ==\u001b[39;00m\n\u001b[0;32m    617\u001b[0m \u001b[38;5;66;03m# \"2.0.6\"), which is serialized in a different structure, for example\u001b[39;00m\n\u001b[0;32m    618\u001b[0m \u001b[38;5;66;03m# \"{'class_name': 'Sequential',\u001b[39;00m\n\u001b[0;32m    619\u001b[0m \u001b[38;5;66;03m#   'config': [{'class_name': 'Embedding', 'config': ...}, {}, ...]}\".\u001b[39;00m\n",
      "\u001b[1;31mValueError\u001b[0m: Unknown regularizer: OrthogonalRegularizerTest. Please ensure this object is passed to the `custom_objects` argument. See https://www.tensorflow.org/guide/keras/save_and_serialize#registering_the_custom_object for details."
     ]
    }
   ],
   "source": [
    "test_model = keras.models.load_model('model_3d_with_other')\n",
    "test_model.evaluate(test_dataset)"
   ]
  },
  {
   "cell_type": "code",
   "execution_count": null,
   "id": "2b1ebbe0",
   "metadata": {},
   "outputs": [],
   "source": []
  }
 ],
 "metadata": {
  "kernelspec": {
   "display_name": "Python 3 (ipykernel)",
   "language": "python",
   "name": "python3"
  },
  "language_info": {
   "codemirror_mode": {
    "name": "ipython",
    "version": 3
   },
   "file_extension": ".py",
   "mimetype": "text/x-python",
   "name": "python",
   "nbconvert_exporter": "python",
   "pygments_lexer": "ipython3",
   "version": "3.9.16"
  }
 },
 "nbformat": 4,
 "nbformat_minor": 5
}
