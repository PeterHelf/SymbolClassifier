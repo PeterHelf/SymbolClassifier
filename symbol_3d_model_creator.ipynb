{
 "cells": [
  {
   "cell_type": "code",
   "execution_count": 1,
   "id": "9ad1ffec",
   "metadata": {
    "ExecuteTime": {
     "end_time": "2023-06-15T22:37:11.262431200Z",
     "start_time": "2023-06-15T22:37:09.191221600Z"
    }
   },
   "outputs": [
    {
     "name": "stderr",
     "output_type": "stream",
     "text": [
      "2023-06-16 00:37:09.380669: I tensorflow/core/platform/cpu_feature_guard.cc:182] This TensorFlow binary is optimized to use available CPU instructions in performance-critical operations.\n",
      "To enable the following instructions: AVX2 FMA, in other operations, rebuild TensorFlow with the appropriate compiler flags.\n",
      "2023-06-16 00:37:10.024763: W tensorflow/compiler/tf2tensorrt/utils/py_utils.cc:38] TF-TRT Warning: Could not find TensorRT\n"
     ]
    }
   ],
   "source": [
    "import tensorflow as tf\n",
    "import numpy as np\n",
    "import pandas as pd\n",
    "import matplotlib.pyplot as plt\n",
    "from sklearn.model_selection import train_test_split\n",
    "from keras.models import Sequential\n",
    "from keras.layers import Dense, Conv1D\n",
    "from keras.optimizers import SGD\n",
    "from numpy.random import uniform\n",
    "import keras\n",
    "from tensorflow.keras import layers"
   ]
  },
  {
   "cell_type": "code",
   "execution_count": 40,
   "id": "ff555cc1",
   "metadata": {
    "ExecuteTime": {
     "end_time": "2023-06-15T22:54:18.680435300Z",
     "start_time": "2023-06-15T22:54:18.675438Z"
    }
   },
   "outputs": [],
   "source": [
    "def generate_mixed_shape(shape1, shape2, shape3, shape4):\n",
    "    shape = []\n",
    "    shape.extend(shape1[:15].tolist())\n",
    "    shape.extend(shape2[15:30].tolist())\n",
    "    shape.extend(shape3[30:45].tolist())\n",
    "    shape.extend(shape4[45:60].tolist())\n",
    "    return pd.DataFrame([shape])"
   ]
  },
  {
   "cell_type": "code",
   "execution_count": 41,
   "id": "ad096329",
   "metadata": {
    "ExecuteTime": {
     "end_time": "2023-06-15T22:54:19.190392400Z",
     "start_time": "2023-06-15T22:54:19.181394100Z"
    }
   },
   "outputs": [],
   "source": [
    "def generate_noisy_shape(shape):\n",
    "    noisyShape = []\n",
    "    for val in shape:\n",
    "        noisyShape.append(val + uniform(-0.3, 0.3))\n",
    "    return pd.DataFrame([noisyShape])"
   ]
  },
  {
   "cell_type": "code",
   "execution_count": 42,
   "id": "7c64b0a1",
   "metadata": {
    "ExecuteTime": {
     "end_time": "2023-06-15T22:54:20.113915900Z",
     "start_time": "2023-06-15T22:54:19.793809400Z"
    }
   },
   "outputs": [],
   "source": [
    "symbol_data = pd.read_csv(\"data/dataset1_fixed.csv\", header=None)\n",
    "X = symbol_data.iloc[:, :-1]\n",
    "Y = symbol_data.iloc[:, -1:]\n",
    "Y = Y.replace(\"Time\", 0)\n",
    "Y = Y.replace(\"Wind\", 1)\n",
    "Y = Y.replace(\"Air\", 1)\n",
    "Y = Y.replace(\"Fire\", 2)\n",
    "Y = Y.replace(\"Earth\", 3)\n",
    "Y = Y.replace(\"Water\", 4)\n",
    "Y = Y.replace(\"Lightning\", 5)\n",
    "\n",
    "for i in range(100):\n",
    "    random_symbols = X.sample(n=4)\n",
    "    X = pd.concat([X, generate_mixed_shape(random_symbols.iloc[0], random_symbols.iloc[1], random_symbols.iloc[2],\n",
    "                                           random_symbols.iloc[3])])\n",
    "    Y = pd.concat([Y, pd.DataFrame([6], columns=[60])])\n",
    "\n",
    "for i in range(100):\n",
    "    random_symbol = X.sample(n=1)\n",
    "    X = pd.concat([X, pd.DataFrame(generate_noisy_shape(random_symbol.iloc[0]))])\n",
    "    Y = pd.concat([Y, pd.DataFrame([6], columns=[60])])\n",
    "\n",
    "x_train, x_test, y_train, y_test = train_test_split(np.array(X), Y, test_size=0.20)\n",
    "\n",
    "y_test = y_test.values.flatten().astype(\"float64\")\n",
    "y_train = y_train.values.flatten().astype(\"float64\")"
   ]
  },
  {
   "cell_type": "code",
   "execution_count": 43,
   "id": "c6b0492f",
   "metadata": {
    "ExecuteTime": {
     "end_time": "2023-06-15T22:54:21.172048800Z",
     "start_time": "2023-06-15T22:54:21.130783900Z"
    }
   },
   "outputs": [],
   "source": [
    "x_train_3d = [np.array(x_train[i]).reshape(-1, 3) for i in range(len(x_train))]\n",
    "x_test_3d = [np.array(x_test[i]).reshape(-1, 3) for i in range(len(x_test))]\n",
    "\n",
    "x_train_3d = tf.stack(x_train_3d)\n",
    "x_test_3d = tf.stack(x_test_3d)"
   ]
  },
  {
   "cell_type": "code",
   "execution_count": 44,
   "id": "c4f6a9c7",
   "metadata": {
    "ExecuteTime": {
     "end_time": "2023-06-15T22:54:22.488422800Z",
     "start_time": "2023-06-15T22:54:22.480425100Z"
    },
    "scrolled": true
   },
   "outputs": [
    {
     "name": "stdout",
     "output_type": "stream",
     "text": [
      "tf.Tensor(\n",
      "[[[0.000000e+00 0.000000e+00 1.278099e-03]\n",
      "  [5.658362e-02 1.278713e-01 1.188829e-03]\n",
      "  [1.075785e-01 2.522959e-01 1.040315e-03]\n",
      "  ...\n",
      "  [9.066686e-01 1.301902e-02 2.608897e-03]\n",
      "  [9.066686e-01 1.301902e-02 2.608897e-03]\n",
      "  [9.066686e-01 1.301902e-02 2.608897e-03]]\n",
      "\n",
      " [[2.162686e-01 1.000000e+00 0.000000e+00]\n",
      "  [1.594829e-01 9.266521e-01 1.321550e-03]\n",
      "  [1.184696e-01 8.448945e-01 2.582021e-03]\n",
      "  ...\n",
      "  [1.227485e-01 0.000000e+00 3.577395e-03]\n",
      "  [1.258600e-01 6.283163e-02 4.108367e-03]\n",
      "  [1.258600e-01 6.283163e-02 4.108367e-03]]\n",
      "\n",
      " [[3.280741e-01 1.000000e+00 2.167617e-03]\n",
      "  [3.054087e-01 9.182222e-01 3.658641e-03]\n",
      "  [2.753298e-01 8.400385e-01 5.194055e-03]\n",
      "  ...\n",
      "  [5.530991e-03 0.000000e+00 2.590099e-03]\n",
      "  [0.000000e+00 7.131944e-03 2.598170e-03]\n",
      "  [0.000000e+00 7.131944e-03 2.598170e-03]]\n",
      "\n",
      " ...\n",
      "\n",
      " [[0.000000e+00 0.000000e+00 2.068214e-04]\n",
      "  [2.089733e-02 1.391858e-01 1.874837e-04]\n",
      "  [8.132624e-02 2.691526e-01 1.777664e-04]\n",
      "  ...\n",
      "  [9.189277e-01 2.470754e-01 6.202909e-04]\n",
      "  [9.189277e-01 2.470754e-01 6.202909e-04]\n",
      "  [9.189277e-01 2.470754e-01 6.202909e-04]]\n",
      "\n",
      " [[2.617104e-01 1.000000e+00 2.256870e-03]\n",
      "  [2.051747e-01 9.291021e-01 2.063731e-03]\n",
      "  [1.562194e-01 8.522125e-01 1.917445e-03]\n",
      "  ...\n",
      "  [0.000000e+00 1.372489e-02 2.845911e-04]\n",
      "  [1.273125e-02 0.000000e+00 0.000000e+00]\n",
      "  [1.273125e-02 0.000000e+00 0.000000e+00]]\n",
      "\n",
      " [[0.000000e+00 5.120205e-01 1.110463e-02]\n",
      "  [9.676971e-02 4.808522e-01 9.926182e-03]\n",
      "  [1.522764e-01 4.006006e-01 8.764765e-03]\n",
      "  ...\n",
      "  [3.358592e-01 4.318646e-01 3.077264e-03]\n",
      "  [3.599329e-01 4.438924e-01 1.819064e-03]\n",
      "  [3.611487e-01 4.688139e-01 1.458920e-03]]], shape=(300, 20, 3), dtype=float64)\n"
     ]
    }
   ],
   "source": [
    "print(x_test_3d)"
   ]
  },
  {
   "cell_type": "code",
   "execution_count": 45,
   "id": "2a492ff6",
   "metadata": {
    "ExecuteTime": {
     "end_time": "2023-06-15T22:54:24.698655Z",
     "start_time": "2023-06-15T22:54:24.646220Z"
    }
   },
   "outputs": [
    {
     "data": {
      "image/png": "[encoded data removed]",
      "text/plain": [
       "<Figure size 500x500 with 1 Axes>"
      ]
     },
     "metadata": {},
     "output_type": "display_data"
    },
    {
     "name": "stdout",
     "output_type": "stream",
     "text": [
      "label:  3.0\n"
     ]
    }
   ],
   "source": [
    "fig = plt.figure(figsize=(5, 5))\n",
    "ax = fig.add_subplot(111, projection=\"3d\")\n",
    "points = x_train_3d[4]\n",
    "clas = y_train[4]\n",
    "ax.scatter(points[:, 0], points[:, 1], points[:, 2])\n",
    "ax.set_axis_off()\n",
    "ax.view_init(elev=90, azim=0, roll=90)\n",
    "plt.show()\n",
    "print(\"label: \", clas)"
   ]
  },
  {
   "cell_type": "code",
   "execution_count": 46,
   "id": "9d24f8cb",
   "metadata": {
    "ExecuteTime": {
     "end_time": "2023-06-15T22:54:26.529478600Z",
     "start_time": "2023-06-15T22:54:26.517469Z"
    }
   },
   "outputs": [],
   "source": [
    "def augment(points, label):\n",
    "    # jitter points\n",
    "    points += tf.random.uniform(points.shape, -0.005, 0.005, dtype=tf.float64)\n",
    "    # shuffle points\n",
    "    points = tf.random.shuffle(points)\n",
    "    return points, label"
   ]
  },
  {
   "cell_type": "code",
   "execution_count": 47,
   "id": "f73b6de1",
   "metadata": {
    "ExecuteTime": {
     "end_time": "2023-06-15T22:54:27.422455600Z",
     "start_time": "2023-06-15T22:54:27.404454Z"
    }
   },
   "outputs": [],
   "source": [
    "NUM_POINTS = 20\n",
    "NUM_CLASSES = 5\n",
    "BATCH_SIZE = 32\n",
    "\n",
    "train_dataset = tf.data.Dataset.from_tensor_slices((x_train_3d, y_train))\n",
    "test_dataset = tf.data.Dataset.from_tensor_slices((x_test_3d, y_test))\n",
    "\n",
    "train_dataset = train_dataset.shuffle(len(x_train_3d)).map(augment).batch(BATCH_SIZE)\n",
    "test_dataset = test_dataset.shuffle(len(x_test_3d)).batch(BATCH_SIZE)"
   ]
  },
  {
   "cell_type": "code",
   "execution_count": 48,
   "id": "d5e52d74",
   "metadata": {
    "ExecuteTime": {
     "end_time": "2023-06-15T22:54:27.869390700Z",
     "start_time": "2023-06-15T22:54:27.802913300Z"
    }
   },
   "outputs": [
    {
     "data": {
      "text/plain": [
       "<_BatchDataset element_spec=(TensorSpec(shape=(None, 20, 3), dtype=tf.float64, name=None), TensorSpec(shape=(None,), dtype=tf.float64, name=None))>"
      ]
     },
     "execution_count": 48,
     "metadata": {},
     "output_type": "execute_result"
    }
   ],
   "source": [
    "train_dataset"
   ]
  },
  {
   "cell_type": "code",
   "execution_count": 49,
   "id": "4fd939b0",
   "metadata": {
    "ExecuteTime": {
     "end_time": "2023-06-15T22:54:28.435759500Z",
     "start_time": "2023-06-15T22:54:28.431763200Z"
    }
   },
   "outputs": [],
   "source": [
    "def conv_bn(x, filters, subfix):\n",
    "    x = layers.Conv1D(filters, kernel_size=1, padding=\"valid\", name=\"conv_\" + subfix)(x)\n",
    "    x = layers.BatchNormalization(momentum=0.0, name=\"bn_\" + subfix)(x)\n",
    "    return layers.Activation(\"relu\", name=\"relu_\" + subfix)(x)\n",
    "\n",
    "\n",
    "def dense_bn(x, filters, subfix):\n",
    "    x = layers.Dense(filters, name=\"dense_\" + subfix)(x)\n",
    "    x = layers.BatchNormalization(momentum=0.0, name=\"bn_\" + subfix)(x)\n",
    "    return layers.Activation(\"relu\", name=\"relu_\" + subfix)(x)"
   ]
  },
  {
   "cell_type": "code",
   "execution_count": 50,
   "id": "6ed052fc",
   "metadata": {
    "ExecuteTime": {
     "end_time": "2023-06-15T22:54:28.956355100Z",
     "start_time": "2023-06-15T22:54:28.943358Z"
    }
   },
   "outputs": [],
   "source": [
    "class OrthogonalRegularizerTest(keras.regularizers.Regularizer):\n",
    "    def __init__(self, num_features, l2reg=0.001):\n",
    "        self.num_features = num_features\n",
    "        self.l2reg = l2reg\n",
    "        self.eye = tf.eye(num_features)\n",
    "\n",
    "    def __call__(self, x):\n",
    "        x = tf.reshape(x, (-1, self.num_features, self.num_features))\n",
    "        xxt = tf.tensordot(x, x, axes=(2, 2))\n",
    "        xxt = tf.reshape(xxt, (-1, self.num_features, self.num_features))\n",
    "        return tf.reduce_sum(self.l2reg * tf.square(xxt - self.eye))\n",
    "\n",
    "    def get_config(self):\n",
    "        return {'num_features': float(self.num_features), 'l2reg': float(self.l2reg)}"
   ]
  },
  {
   "cell_type": "code",
   "execution_count": 51,
   "id": "2dd07e3d",
   "metadata": {
    "ExecuteTime": {
     "end_time": "2023-06-15T22:54:29.481495700Z",
     "start_time": "2023-06-15T22:54:29.473496300Z"
    }
   },
   "outputs": [
    {
     "data": {
      "text/plain": [
       "tensorflow.python.framework.ops.EagerTensor"
      ]
     },
     "execution_count": 51,
     "metadata": {},
     "output_type": "execute_result"
    }
   ],
   "source": [
    "type(tf.eye(3))"
   ]
  },
  {
   "cell_type": "code",
   "execution_count": 52,
   "id": "1a044a08",
   "metadata": {
    "ExecuteTime": {
     "end_time": "2023-06-15T22:54:29.934490300Z",
     "start_time": "2023-06-15T22:54:29.885491500Z"
    }
   },
   "outputs": [],
   "source": [
    "def tnet(inputs, num_features, subfix):\n",
    "    # Initalise bias as the indentity matrix\n",
    "    bias = keras.initializers.Constant(np.eye(num_features).flatten())\n",
    "    # reg = tf.keras.regularizers.OrthogonalRegularizer(factor=0.01, mode=\"columns\")\n",
    "    # reg = tf.keras.regularizers.L1L2(l1=0.01, l2=0.01)\n",
    "    reg = OrthogonalRegularizerTest(num_features)\n",
    "\n",
    "    x = conv_bn(inputs, 32, subfix + \"_1\")\n",
    "    x = conv_bn(x, 64, subfix + \"_2\")\n",
    "    x = conv_bn(x, 512, subfix + \"_3\")\n",
    "    x = layers.GlobalMaxPooling1D(name=\"maxpool_\" + subfix)(x)\n",
    "    x = dense_bn(x, 256, subfix + \"_4\")\n",
    "    x = dense_bn(x, 128, subfix + \"_5\")\n",
    "    x = layers.Dense(\n",
    "        num_features * num_features,\n",
    "        kernel_initializer=\"zeros\",\n",
    "        bias_initializer=bias,\n",
    "        activity_regularizer=reg,\n",
    "        name=\"T_\" + subfix,\n",
    "    )(x)\n",
    "    feat_T = layers.Reshape((num_features, num_features), name=\"T_reshape_\" + subfix)(x)\n",
    "    # Apply affine transformation to input features\n",
    "    return layers.Dot(axes=(2, 1), name=\"T_dot_\" + subfix)([inputs, feat_T])"
   ]
  },
  {
   "cell_type": "code",
   "execution_count": 53,
   "id": "f456f908",
   "metadata": {
    "ExecuteTime": {
     "end_time": "2023-06-15T22:54:31.211254600Z",
     "start_time": "2023-06-15T22:54:30.440441Z"
    },
    "scrolled": true
   },
   "outputs": [
    {
     "name": "stdout",
     "output_type": "stream",
     "text": [
      "Model: \"pointnet\"\n",
      "__________________________________________________________________________________________________\n",
      " Layer (type)                   Output Shape         Param #     Connected to                     \n",
      "==================================================================================================\n",
      " input_4 (InputLayer)           [(None, 20, 3)]      0           []                               \n",
      "                                                                                                  \n",
      " conv_tnet1_1 (Conv1D)          (None, 20, 32)       128         ['input_4[0][0]']                \n",
      "                                                                                                  \n",
      " bn_tnet1_1 (BatchNormalization  (None, 20, 32)      128         ['conv_tnet1_1[0][0]']           \n",
      " )                                                                                                \n",
      "                                                                                                  \n",
      " relu_tnet1_1 (Activation)      (None, 20, 32)       0           ['bn_tnet1_1[0][0]']             \n",
      "                                                                                                  \n",
      " conv_tnet1_2 (Conv1D)          (None, 20, 64)       2112        ['relu_tnet1_1[0][0]']           \n",
      "                                                                                                  \n",
      " bn_tnet1_2 (BatchNormalization  (None, 20, 64)      256         ['conv_tnet1_2[0][0]']           \n",
      " )                                                                                                \n",
      "                                                                                                  \n",
      " relu_tnet1_2 (Activation)      (None, 20, 64)       0           ['bn_tnet1_2[0][0]']             \n",
      "                                                                                                  \n",
      " conv_tnet1_3 (Conv1D)          (None, 20, 512)      33280       ['relu_tnet1_2[0][0]']           \n",
      "                                                                                                  \n",
      " bn_tnet1_3 (BatchNormalization  (None, 20, 512)     2048        ['conv_tnet1_3[0][0]']           \n",
      " )                                                                                                \n",
      "                                                                                                  \n",
      " relu_tnet1_3 (Activation)      (None, 20, 512)      0           ['bn_tnet1_3[0][0]']             \n",
      "                                                                                                  \n",
      " maxpool_tnet1 (GlobalMaxPoolin  (None, 512)         0           ['relu_tnet1_3[0][0]']           \n",
      " g1D)                                                                                             \n",
      "                                                                                                  \n",
      " dense_tnet1_4 (Dense)          (None, 256)          131328      ['maxpool_tnet1[0][0]']          \n",
      "                                                                                                  \n",
      " bn_tnet1_4 (BatchNormalization  (None, 256)         1024        ['dense_tnet1_4[0][0]']          \n",
      " )                                                                                                \n",
      "                                                                                                  \n",
      " relu_tnet1_4 (Activation)      (None, 256)          0           ['bn_tnet1_4[0][0]']             \n",
      "                                                                                                  \n",
      " dense_tnet1_5 (Dense)          (None, 128)          32896       ['relu_tnet1_4[0][0]']           \n",
      "                                                                                                  \n",
      " bn_tnet1_5 (BatchNormalization  (None, 128)         512         ['dense_tnet1_5[0][0]']          \n",
      " )                                                                                                \n",
      "                                                                                                  \n",
      " relu_tnet1_5 (Activation)      (None, 128)          0           ['bn_tnet1_5[0][0]']             \n",
      "                                                                                                  \n",
      " T_tnet1 (Dense)                (None, 9)            1161        ['relu_tnet1_5[0][0]']           \n",
      "                                                                                                  \n",
      " T_reshape_tnet1 (Reshape)      (None, 3, 3)         0           ['T_tnet1[0][0]']                \n",
      "                                                                                                  \n",
      " T_dot_tnet1 (Dot)              (None, 20, 3)        0           ['input_4[0][0]',                \n",
      "                                                                  'T_reshape_tnet1[0][0]']        \n",
      "                                                                                                  \n",
      " conv_1 (Conv1D)                (None, 20, 32)       128         ['T_dot_tnet1[0][0]']            \n",
      "                                                                                                  \n",
      " bn_1 (BatchNormalization)      (None, 20, 32)       128         ['conv_1[0][0]']                 \n",
      "                                                                                                  \n",
      " relu_1 (Activation)            (None, 20, 32)       0           ['bn_1[0][0]']                   \n",
      "                                                                                                  \n",
      " conv_2 (Conv1D)                (None, 20, 32)       1056        ['relu_1[0][0]']                 \n",
      "                                                                                                  \n",
      " bn_2 (BatchNormalization)      (None, 20, 32)       128         ['conv_2[0][0]']                 \n",
      "                                                                                                  \n",
      " relu_2 (Activation)            (None, 20, 32)       0           ['bn_2[0][0]']                   \n",
      "                                                                                                  \n",
      " conv_tnet2_1 (Conv1D)          (None, 20, 32)       1056        ['relu_2[0][0]']                 \n",
      "                                                                                                  \n",
      " bn_tnet2_1 (BatchNormalization  (None, 20, 32)      128         ['conv_tnet2_1[0][0]']           \n",
      " )                                                                                                \n",
      "                                                                                                  \n",
      " relu_tnet2_1 (Activation)      (None, 20, 32)       0           ['bn_tnet2_1[0][0]']             \n",
      "                                                                                                  \n",
      " conv_tnet2_2 (Conv1D)          (None, 20, 64)       2112        ['relu_tnet2_1[0][0]']           \n",
      "                                                                                                  \n",
      " bn_tnet2_2 (BatchNormalization  (None, 20, 64)      256         ['conv_tnet2_2[0][0]']           \n",
      " )                                                                                                \n",
      "                                                                                                  \n",
      " relu_tnet2_2 (Activation)      (None, 20, 64)       0           ['bn_tnet2_2[0][0]']             \n",
      "                                                                                                  \n",
      " conv_tnet2_3 (Conv1D)          (None, 20, 512)      33280       ['relu_tnet2_2[0][0]']           \n",
      "                                                                                                  \n",
      " bn_tnet2_3 (BatchNormalization  (None, 20, 512)     2048        ['conv_tnet2_3[0][0]']           \n",
      " )                                                                                                \n",
      "                                                                                                  \n",
      " relu_tnet2_3 (Activation)      (None, 20, 512)      0           ['bn_tnet2_3[0][0]']             \n",
      "                                                                                                  \n",
      " maxpool_tnet2 (GlobalMaxPoolin  (None, 512)         0           ['relu_tnet2_3[0][0]']           \n",
      " g1D)                                                                                             \n",
      "                                                                                                  \n",
      " dense_tnet2_4 (Dense)          (None, 256)          131328      ['maxpool_tnet2[0][0]']          \n",
      "                                                                                                  \n",
      " bn_tnet2_4 (BatchNormalization  (None, 256)         1024        ['dense_tnet2_4[0][0]']          \n",
      " )                                                                                                \n",
      "                                                                                                  \n",
      " relu_tnet2_4 (Activation)      (None, 256)          0           ['bn_tnet2_4[0][0]']             \n",
      "                                                                                                  \n",
      " dense_tnet2_5 (Dense)          (None, 128)          32896       ['relu_tnet2_4[0][0]']           \n",
      "                                                                                                  \n",
      " bn_tnet2_5 (BatchNormalization  (None, 128)         512         ['dense_tnet2_5[0][0]']          \n",
      " )                                                                                                \n",
      "                                                                                                  \n",
      " relu_tnet2_5 (Activation)      (None, 128)          0           ['bn_tnet2_5[0][0]']             \n",
      "                                                                                                  \n",
      " T_tnet2 (Dense)                (None, 1024)         132096      ['relu_tnet2_5[0][0]']           \n",
      "                                                                                                  \n",
      " T_reshape_tnet2 (Reshape)      (None, 32, 32)       0           ['T_tnet2[0][0]']                \n",
      "                                                                                                  \n",
      " T_dot_tnet2 (Dot)              (None, 20, 32)       0           ['relu_2[0][0]',                 \n",
      "                                                                  'T_reshape_tnet2[0][0]']        \n",
      "                                                                                                  \n",
      " conv_3 (Conv1D)                (None, 20, 32)       1056        ['T_dot_tnet2[0][0]']            \n",
      "                                                                                                  \n",
      " bn_3 (BatchNormalization)      (None, 20, 32)       128         ['conv_3[0][0]']                 \n",
      "                                                                                                  \n",
      " relu_3 (Activation)            (None, 20, 32)       0           ['bn_3[0][0]']                   \n",
      "                                                                                                  \n",
      " conv_4 (Conv1D)                (None, 20, 64)       2112        ['relu_3[0][0]']                 \n",
      "                                                                                                  \n",
      " bn_4 (BatchNormalization)      (None, 20, 64)       256         ['conv_4[0][0]']                 \n",
      "                                                                                                  \n",
      " relu_4 (Activation)            (None, 20, 64)       0           ['bn_4[0][0]']                   \n",
      "                                                                                                  \n",
      " conv_5 (Conv1D)                (None, 20, 512)      33280       ['relu_4[0][0]']                 \n",
      "                                                                                                  \n",
      " bn_5 (BatchNormalization)      (None, 20, 512)      2048        ['conv_5[0][0]']                 \n",
      "                                                                                                  \n",
      " relu_5 (Activation)            (None, 20, 512)      0           ['bn_5[0][0]']                   \n",
      "                                                                                                  \n",
      " maxpool1 (GlobalMaxPooling1D)  (None, 512)          0           ['relu_5[0][0]']                 \n",
      "                                                                                                  \n",
      " dense_6 (Dense)                (None, 256)          131328      ['maxpool1[0][0]']               \n",
      "                                                                                                  \n",
      " bn_6 (BatchNormalization)      (None, 256)          1024        ['dense_6[0][0]']                \n",
      "                                                                                                  \n",
      " relu_6 (Activation)            (None, 256)          0           ['bn_6[0][0]']                   \n",
      "                                                                                                  \n",
      " dropout_4 (Dropout)            (None, 256)          0           ['relu_6[0][0]']                 \n",
      "                                                                                                  \n",
      " dense_7 (Dense)                (None, 128)          32896       ['dropout_4[0][0]']              \n",
      "                                                                                                  \n",
      " bn_7 (BatchNormalization)      (None, 128)          512         ['dense_7[0][0]']                \n",
      "                                                                                                  \n",
      " relu_7 (Activation)            (None, 128)          0           ['bn_7[0][0]']                   \n",
      "                                                                                                  \n",
      " dropout_5 (Dropout)            (None, 128)          0           ['relu_7[0][0]']                 \n",
      "                                                                                                  \n",
      " outputs (Dense)                (None, 7)            903         ['dropout_5[0][0]']              \n",
      "                                                                                                  \n",
      "==================================================================================================\n",
      "Total params: 748,592\n",
      "Trainable params: 742,512\n",
      "Non-trainable params: 6,080\n",
      "__________________________________________________________________________________________________\n"
     ]
    }
   ],
   "source": [
    "inputs = keras.Input(shape=(NUM_POINTS, 3))\n",
    "\n",
    "x = tnet(inputs, 3, \"tnet1\")\n",
    "x = conv_bn(x, 32, \"1\")\n",
    "x = conv_bn(x, 32,  \"2\")\n",
    "x = tnet(x, 32, \"tnet2\")\n",
    "x = conv_bn(x, 32, \"3\")\n",
    "x = conv_bn(x, 64, \"4\")\n",
    "x = conv_bn(x, 512, \"5\")\n",
    "x = layers.GlobalMaxPooling1D(name=\"maxpool1\")(x)\n",
    "x = dense_bn(x, 256, \"6\")\n",
    "x = layers.Dropout(0.3)(x)\n",
    "x = dense_bn(x, 128, \"7\")\n",
    "x = layers.Dropout(0.3)(x)\n",
    "\n",
    "outputs = layers.Dense(NUM_CLASSES, activation=\"softmax\", name=\"outputs\")(x)\n",
    "\n",
    "model = keras.Model(inputs=inputs, outputs=outputs, name=\"pointnet\")\n",
    "model.summary()"
   ]
  },
  {
   "cell_type": "code",
   "execution_count": 54,
   "id": "c61d5d05",
   "metadata": {
    "ExecuteTime": {
     "end_time": "2023-06-15T22:55:34.615476400Z",
     "start_time": "2023-06-15T22:54:32.618406800Z"
    }
   },
   "outputs": [
    {
     "name": "stdout",
     "output_type": "stream",
     "text": [
      "Epoch 1/30\n"
     ]
    },
    {
     "name": "stderr",
     "output_type": "stream",
     "text": [
      "2023-06-16 00:54:32.629189: I tensorflow/core/common_runtime/executor.cc:1197] [/device:CPU:0] (DEBUG INFO) Executor start aborting (this does not indicate an error and you can ignore this message): INVALID_ARGUMENT: You must feed a value for placeholder tensor 'Placeholder/_0' with dtype double and shape [1199,20,3]\n",
      "\t [[{{node Placeholder/_0}}]]\n",
      "2023-06-16 00:54:32.629579: I tensorflow/core/common_runtime/executor.cc:1197] [/device:CPU:0] (DEBUG INFO) Executor start aborting (this does not indicate an error and you can ignore this message): INVALID_ARGUMENT: You must feed a value for placeholder tensor 'Placeholder/_1' with dtype double and shape [1199]\n",
      "\t [[{{node Placeholder/_1}}]]\n"
     ]
    },
    {
     "name": "stdout",
     "output_type": "stream",
     "text": [
      "37/38 [============================>.] - ETA: 0s - loss: 3.5285 - sparse_categorical_accuracy: 0.3716"
     ]
    },
    {
     "name": "stderr",
     "output_type": "stream",
     "text": [
      "2023-06-16 00:54:37.886198: I tensorflow/core/common_runtime/executor.cc:1197] [/device:CPU:0] (DEBUG INFO) Executor start aborting (this does not indicate an error and you can ignore this message): INVALID_ARGUMENT: You must feed a value for placeholder tensor 'Placeholder/_1' with dtype double and shape [300]\n",
      "\t [[{{node Placeholder/_1}}]]\n",
      "2023-06-16 00:54:37.886415: I tensorflow/core/common_runtime/executor.cc:1197] [/device:CPU:0] (DEBUG INFO) Executor start aborting (this does not indicate an error and you can ignore this message): INVALID_ARGUMENT: You must feed a value for placeholder tensor 'Placeholder/_1' with dtype double and shape [300]\n",
      "\t [[{{node Placeholder/_1}}]]\n"
     ]
    },
    {
     "name": "stdout",
     "output_type": "stream",
     "text": [
      "38/38 [==============================] - 6s 70ms/step - loss: 3.5135 - sparse_categorical_accuracy: 0.3728 - val_loss: 4.4844 - val_sparse_categorical_accuracy: 0.6767\n",
      "Epoch 2/30\n",
      "38/38 [==============================] - 2s 41ms/step - loss: 2.3045 - sparse_categorical_accuracy: 0.6747 - val_loss: 4.4437 - val_sparse_categorical_accuracy: 0.7400\n",
      "Epoch 3/30\n",
      "38/38 [==============================] - 2s 44ms/step - loss: 2.0504 - sparse_categorical_accuracy: 0.7415 - val_loss: 838487296.0000 - val_sparse_categorical_accuracy: 0.6433\n",
      "Epoch 4/30\n",
      "38/38 [==============================] - 2s 45ms/step - loss: 1.8270 - sparse_categorical_accuracy: 0.8057 - val_loss: 2.4788 - val_sparse_categorical_accuracy: 0.6600\n",
      "Epoch 5/30\n",
      "38/38 [==============================] - 2s 52ms/step - loss: 1.7250 - sparse_categorical_accuracy: 0.8407 - val_loss: 1.8956 - val_sparse_categorical_accuracy: 0.7833\n",
      "Epoch 6/30\n",
      "38/38 [==============================] - 2s 52ms/step - loss: 1.6563 - sparse_categorical_accuracy: 0.8574 - val_loss: 2.3476 - val_sparse_categorical_accuracy: 0.8000\n",
      "Epoch 7/30\n",
      "38/38 [==============================] - 2s 50ms/step - loss: 1.5393 - sparse_categorical_accuracy: 0.8774 - val_loss: 42602.4805 - val_sparse_categorical_accuracy: 0.8500\n",
      "Epoch 8/30\n",
      "38/38 [==============================] - 2s 53ms/step - loss: 1.5787 - sparse_categorical_accuracy: 0.8682 - val_loss: 2130333056.0000 - val_sparse_categorical_accuracy: 0.6800\n",
      "Epoch 9/30\n",
      "38/38 [==============================] - 2s 54ms/step - loss: 1.6531 - sparse_categorical_accuracy: 0.8465 - val_loss: 1.8216 - val_sparse_categorical_accuracy: 0.8400\n",
      "Epoch 10/30\n",
      "38/38 [==============================] - 2s 50ms/step - loss: 1.5613 - sparse_categorical_accuracy: 0.8907 - val_loss: 21.0444 - val_sparse_categorical_accuracy: 0.8167\n",
      "Epoch 11/30\n",
      "38/38 [==============================] - 2s 48ms/step - loss: 1.5134 - sparse_categorical_accuracy: 0.8899 - val_loss: 177469.7344 - val_sparse_categorical_accuracy: 0.8367\n",
      "Epoch 12/30\n",
      "38/38 [==============================] - 2s 48ms/step - loss: 1.5155 - sparse_categorical_accuracy: 0.8866 - val_loss: 1.5859 - val_sparse_categorical_accuracy: 0.8500\n",
      "Epoch 13/30\n",
      "38/38 [==============================] - 2s 53ms/step - loss: 1.4610 - sparse_categorical_accuracy: 0.8999 - val_loss: 1.6653 - val_sparse_categorical_accuracy: 0.8400\n",
      "Epoch 14/30\n",
      "38/38 [==============================] - 2s 54ms/step - loss: 1.4971 - sparse_categorical_accuracy: 0.8866 - val_loss: 1.8284 - val_sparse_categorical_accuracy: 0.8267\n",
      "Epoch 15/30\n",
      "38/38 [==============================] - 2s 52ms/step - loss: 1.4261 - sparse_categorical_accuracy: 0.9124 - val_loss: 8630890.0000 - val_sparse_categorical_accuracy: 0.7400\n",
      "Epoch 16/30\n",
      "38/38 [==============================] - 2s 47ms/step - loss: 1.4289 - sparse_categorical_accuracy: 0.9099 - val_loss: 320.1387 - val_sparse_categorical_accuracy: 0.8367\n",
      "Epoch 17/30\n",
      "38/38 [==============================] - 2s 49ms/step - loss: 1.4256 - sparse_categorical_accuracy: 0.9041 - val_loss: 8.8810 - val_sparse_categorical_accuracy: 0.8133\n",
      "Epoch 18/30\n",
      "38/38 [==============================] - 2s 51ms/step - loss: 1.4113 - sparse_categorical_accuracy: 0.9183 - val_loss: 16225.0234 - val_sparse_categorical_accuracy: 0.8367\n",
      "Epoch 19/30\n",
      "38/38 [==============================] - 2s 54ms/step - loss: 1.3343 - sparse_categorical_accuracy: 0.9349 - val_loss: 172930976.0000 - val_sparse_categorical_accuracy: 0.8533\n",
      "Epoch 20/30\n",
      "38/38 [==============================] - 2s 53ms/step - loss: 1.3624 - sparse_categorical_accuracy: 0.9299 - val_loss: 2.7571 - val_sparse_categorical_accuracy: 0.9000\n",
      "Epoch 21/30\n",
      "38/38 [==============================] - 2s 49ms/step - loss: 1.3604 - sparse_categorical_accuracy: 0.9241 - val_loss: 1.5789 - val_sparse_categorical_accuracy: 0.8967\n",
      "Epoch 22/30\n",
      "38/38 [==============================] - 2s 50ms/step - loss: 1.3442 - sparse_categorical_accuracy: 0.9233 - val_loss: 1.8986 - val_sparse_categorical_accuracy: 0.8433\n",
      "Epoch 23/30\n",
      "38/38 [==============================] - 2s 50ms/step - loss: 1.3005 - sparse_categorical_accuracy: 0.9358 - val_loss: 9976.1836 - val_sparse_categorical_accuracy: 0.8033\n",
      "Epoch 24/30\n",
      "38/38 [==============================] - 2s 52ms/step - loss: 1.3728 - sparse_categorical_accuracy: 0.9191 - val_loss: 1.6842 - val_sparse_categorical_accuracy: 0.8733\n",
      "Epoch 25/30\n",
      "38/38 [==============================] - 2s 55ms/step - loss: 1.3671 - sparse_categorical_accuracy: 0.9216 - val_loss: 1.6190 - val_sparse_categorical_accuracy: 0.8767\n",
      "Epoch 26/30\n",
      "38/38 [==============================] - 2s 51ms/step - loss: 1.3069 - sparse_categorical_accuracy: 0.9441 - val_loss: 72.5235 - val_sparse_categorical_accuracy: 0.8767\n",
      "Epoch 27/30\n",
      "38/38 [==============================] - 2s 49ms/step - loss: 1.3321 - sparse_categorical_accuracy: 0.9308 - val_loss: 1.6272 - val_sparse_categorical_accuracy: 0.8900\n",
      "Epoch 28/30\n",
      "38/38 [==============================] - 2s 50ms/step - loss: 1.3983 - sparse_categorical_accuracy: 0.9199 - val_loss: 1.8349 - val_sparse_categorical_accuracy: 0.8433\n",
      "Epoch 29/30\n",
      "38/38 [==============================] - 2s 53ms/step - loss: 1.3213 - sparse_categorical_accuracy: 0.9366 - val_loss: 402388.4688 - val_sparse_categorical_accuracy: 0.8867\n",
      "Epoch 30/30\n",
      "38/38 [==============================] - 2s 55ms/step - loss: 1.3105 - sparse_categorical_accuracy: 0.9366 - val_loss: 1.7575 - val_sparse_categorical_accuracy: 0.8867\n"
     ]
    },
    {
     "data": {
      "text/plain": [
       "<keras.callbacks.History at 0x7f8d9cb409a0>"
      ]
     },
     "execution_count": 54,
     "metadata": {},
     "output_type": "execute_result"
    }
   ],
   "source": [
    "model.compile(\n",
    "    loss=\"sparse_categorical_crossentropy\",\n",
    "    optimizer=keras.optimizers.Adam(learning_rate=0.0005),\n",
    "    metrics=[\"sparse_categorical_accuracy\"],\n",
    ")\n",
    "\n",
    "model.fit(train_dataset, epochs=30, validation_data=test_dataset)"
   ]
  },
  {
   "cell_type": "code",
   "execution_count": 55,
   "metadata": {
    "ExecuteTime": {
     "end_time": "2023-06-15T22:55:37.296284500Z",
     "start_time": "2023-06-15T22:55:37.078714600Z"
    },
    "collapsed": false
   },
   "outputs": [
    {
     "data": {
      "image/png": "[encoded data removed]",
      "text/plain": [
       "<Figure size 640x480 with 1 Axes>"
      ]
     },
     "metadata": {},
     "output_type": "display_data"
    }
   ],
   "source": [
    "# show history plot\n",
    "plt.plot(model.history.history[\"sparse_categorical_accuracy\"])\n",
    "plt.plot(model.history.history[\"val_sparse_categorical_accuracy\"])\n",
    "plt.title(\"model accuracy\")\n",
    "plt.ylabel(\"accuracy\")\n",
    "plt.xlabel(\"epoch\")\n",
    "plt.legend([\"train\", \"test\"], loc=\"upper left\")\n",
    "plt.show()"
   ]
  },
  {
   "cell_type": "code",
   "execution_count": 56,
   "metadata": {
    "ExecuteTime": {
     "end_time": "2023-06-15T22:55:41.459676600Z",
     "start_time": "2023-06-15T22:55:40.652588900Z"
    },
    "collapsed": false
   },
   "outputs": [
    {
     "name": "stdout",
     "output_type": "stream",
     "text": [
      "10/10 [==============================] - 1s 16ms/step\n",
      "[[ 7  6  3  6  9  5  8]\n",
      " [10 11  5  9  9 10  5]\n",
      " [ 5  4  0  0  5  6  1]\n",
      " [ 4  4  2  4 13  6  6]\n",
      " [ 8 14  2  3  9  6  3]\n",
      " [ 4 12  4  5 12  5  6]\n",
      " [ 6  5  4  4 13 10  2]]\n"
     ]
    },
    {
     "data": {
      "image/png": "[encoded data removed]",
      "text/plain": [
       "<Figure size 640x480 with 2 Axes>"
      ]
     },
     "metadata": {},
     "output_type": "display_data"
    }
   ],
   "source": [
    "from sklearn.metrics import confusion_matrix\n",
    "\n",
    "# confusion matrix\n",
    "y_pred = model.predict(test_dataset)\n",
    "y_pred = np.argmax(y_pred, axis=1)\n",
    "y_true = np.concatenate([y for x, y in test_dataset], axis=0)\n",
    "cm = confusion_matrix(y_true, y_pred)\n",
    "print(cm)\n",
    "# plot\n",
    "plt.imshow(cm, cmap=plt.cm.Blues)\n",
    "plt.xlabel(\"Predicted labels\")\n",
    "plt.ylabel(\"True labels\")\n",
    "plt.xticks([], [])\n",
    "plt.yticks([], [])\n",
    "plt.title(\"Confusion matrix \")\n",
    "plt.colorbar()\n",
    "plt.show()"
   ]
  },
  {
   "cell_type": "code",
   "execution_count": 57,
   "id": "f6eb7d3d",
   "metadata": {
    "ExecuteTime": {
     "end_time": "2023-06-15T22:55:53.390992300Z",
     "start_time": "2023-06-15T22:55:52.596607400Z"
    }
   },
   "outputs": [
    {
     "name": "stderr",
     "output_type": "stream",
     "text": [
      "2023-06-16 00:55:52.596934: I tensorflow/core/common_runtime/executor.cc:1197] [/device:CPU:0] (DEBUG INFO) Executor start aborting (this does not indicate an error and you can ignore this message): INVALID_ARGUMENT: You must feed a value for placeholder tensor 'Placeholder/_1' with dtype double and shape [300]\n",
      "\t [[{{node Placeholder/_1}}]]\n",
      "2023-06-16 00:55:52.597385: I tensorflow/core/common_runtime/executor.cc:1197] [/device:CPU:0] (DEBUG INFO) Executor start aborting (this does not indicate an error and you can ignore this message): INVALID_ARGUMENT: You must feed a value for placeholder tensor 'Placeholder/_0' with dtype double and shape [300,20,3]\n",
      "\t [[{{node Placeholder/_0}}]]\n"
     ]
    },
    {
     "name": "stdout",
     "output_type": "stream",
     "text": [
      "1/1 [==============================] - 0s 415ms/step\n"
     ]
    },
    {
     "data": {
      "image/png": "[encoded data removed]",
      "text/plain": [
       "<Figure size 1500x1000 with 8 Axes>"
      ]
     },
     "metadata": {},
     "output_type": "display_data"
    }
   ],
   "source": [
    "class_map = {}\n",
    "class_map[0] = \"Time\"\n",
    "class_map[1] = \"Wind\"\n",
    "class_map[2] = \"Fire\"\n",
    "class_map[3] = \"Earth\"\n",
    "class_map[4] = \"Water\"\n",
    "class_map[5] = \"Lightning\"\n",
    "class_map[6] = \"Other\"\n",
    "\n",
    "data = test_dataset.take(1)\n",
    "\n",
    "points, labels = list(data)[0]\n",
    "points = points[:8, ...]\n",
    "labels = labels[:8, ...]\n",
    "\n",
    "# run test data through model\n",
    "preds = model.predict(points)\n",
    "preds = tf.math.argmax(preds, -1)\n",
    "\n",
    "points = points.numpy()\n",
    "\n",
    "# plot points with predicted class and label\n",
    "fig = plt.figure(figsize=(15, 10))\n",
    "for i in range(8):\n",
    "    ax = fig.add_subplot(2, 4, i + 1, projection=\"3d\")\n",
    "    ax.scatter(points[i, :, 0], points[i, :, 1], points[i, :, 2])\n",
    "    ax.set_title(\n",
    "        \"pred: {:}, label: {:}\".format(\n",
    "            class_map[preds[i].numpy()], class_map[labels.numpy()[i]]\n",
    "        )\n",
    "    )\n",
    "    ax.set_axis_off()\n",
    "    ax.view_init(elev=90, azim=0, roll=90)\n",
    "plt.show()\n"
   ]
  },
  {
   "cell_type": "code",
   "execution_count": 58,
   "id": "de8482ff",
   "metadata": {
    "ExecuteTime": {
     "end_time": "2023-06-15T22:56:11.267514400Z",
     "start_time": "2023-06-15T22:56:03.958509100Z"
    }
   },
   "outputs": [
    {
     "name": "stderr",
     "output_type": "stream",
     "text": [
      "2023-06-16 00:56:06.291040: I tensorflow/core/common_runtime/executor.cc:1197] [/device:CPU:0] (DEBUG INFO) Executor start aborting (this does not indicate an error and you can ignore this message): INVALID_ARGUMENT: You must feed a value for placeholder tensor 'inputs' with dtype float and shape [?,9]\n",
      "\t [[{{node inputs}}]]\n",
      "2023-06-16 00:56:06.366783: I tensorflow/core/common_runtime/executor.cc:1197] [/device:CPU:0] (DEBUG INFO) Executor start aborting (this does not indicate an error and you can ignore this message): INVALID_ARGUMENT: You must feed a value for placeholder tensor 'inputs' with dtype float and shape [?,1024]\n",
      "\t [[{{node inputs}}]]\n",
      "2023-06-16 00:56:06.409082: I tensorflow/core/common_runtime/executor.cc:1197] [/device:CPU:0] (DEBUG INFO) Executor start aborting (this does not indicate an error and you can ignore this message): INVALID_ARGUMENT: You must feed a value for placeholder tensor 'inputs' with dtype float and shape [?,256]\n",
      "\t [[{{node inputs}}]]\n",
      "2023-06-16 00:56:06.424638: I tensorflow/core/common_runtime/executor.cc:1197] [/device:CPU:0] (DEBUG INFO) Executor start aborting (this does not indicate an error and you can ignore this message): INVALID_ARGUMENT: You must feed a value for placeholder tensor 'inputs' with dtype float and shape [?,128]\n",
      "\t [[{{node inputs}}]]\n",
      "2023-06-16 00:56:07.837167: I tensorflow/core/common_runtime/executor.cc:1197] [/device:CPU:0] (DEBUG INFO) Executor start aborting (this does not indicate an error and you can ignore this message): INVALID_ARGUMENT: You must feed a value for placeholder tensor 'inputs' with dtype float and shape [?,9]\n",
      "\t [[{{node inputs}}]]\n",
      "2023-06-16 00:56:08.322740: I tensorflow/core/common_runtime/executor.cc:1197] [/device:CPU:0] (DEBUG INFO) Executor start aborting (this does not indicate an error and you can ignore this message): INVALID_ARGUMENT: You must feed a value for placeholder tensor 'inputs' with dtype float and shape [?,1024]\n",
      "\t [[{{node inputs}}]]\n",
      "2023-06-16 00:56:08.560037: I tensorflow/core/common_runtime/executor.cc:1197] [/device:CPU:0] (DEBUG INFO) Executor start aborting (this does not indicate an error and you can ignore this message): INVALID_ARGUMENT: You must feed a value for placeholder tensor 'inputs' with dtype float and shape [?,256]\n",
      "\t [[{{node inputs}}]]\n",
      "2023-06-16 00:56:08.625064: I tensorflow/core/common_runtime/executor.cc:1197] [/device:CPU:0] (DEBUG INFO) Executor start aborting (this does not indicate an error and you can ignore this message): INVALID_ARGUMENT: You must feed a value for placeholder tensor 'inputs' with dtype float and shape [?,128]\n",
      "\t [[{{node inputs}}]]\n",
      "WARNING:absl:Found untraced functions such as _jit_compiled_convolution_op, _jit_compiled_convolution_op, _jit_compiled_convolution_op, _jit_compiled_convolution_op, _jit_compiled_convolution_op while saving (showing 5 of 11). These functions will not be directly callable after loading.\n"
     ]
    },
    {
     "name": "stdout",
     "output_type": "stream",
     "text": [
      "INFO:tensorflow:Assets written to: model_3d_with_other/assets\n"
     ]
    },
    {
     "name": "stderr",
     "output_type": "stream",
     "text": [
      "INFO:tensorflow:Assets written to: model_3d_with_other/assets\n"
     ]
    }
   ],
   "source": [
    "# save with custom objects\n",
    "model.save('model_3d_with_other')\n",
    "\n",
    "model.save('model_3d_with_other.h5', save_format='h5')"
   ]
  },
  {
   "cell_type": "code",
   "execution_count": 59,
   "id": "33da4ef1",
   "metadata": {
    "ExecuteTime": {
     "end_time": "2023-06-15T22:56:13.197985400Z",
     "start_time": "2023-06-15T22:56:12.986691500Z"
    }
   },
   "outputs": [
    {
     "name": "stdout",
     "output_type": "stream",
     "text": [
      "10/10 [==============================] - 0s 19ms/step - loss: 1.7570 - sparse_categorical_accuracy: 0.8867\n"
     ]
    },
    {
     "data": {
      "text/plain": [
       "[1.7570210695266724, 0.8866666555404663]"
      ]
     },
     "execution_count": 59,
     "metadata": {},
     "output_type": "execute_result"
    }
   ],
   "source": [
    "model.evaluate(test_dataset)"
   ]
  },
  {
   "cell_type": "code",
   "execution_count": 60,
   "metadata": {
    "ExecuteTime": {
     "end_time": "2023-06-15T22:56:58.180600300Z",
     "start_time": "2023-06-15T22:56:51.426109800Z"
    },
    "collapsed": false
   },
   "outputs": [
    {
     "name": "stdout",
     "output_type": "stream",
     "text": [
      "2023-06-16 00:56:52.479840: W tensorflow/compiler/tf2tensorrt/utils/py_utils.cc:38] TF-TRT Warning: Could not find TensorRT\r\n",
      "/home/aster/miniconda3/envs/ComputerVisionProject/lib/python3.10/runpy.py:126: RuntimeWarning: 'tf2onnx.convert' found in sys.modules after import of package 'tf2onnx', but prior to execution of 'tf2onnx.convert'; this may result in unpredictable behaviour\r\n",
      "  warn(RuntimeWarning(msg))\r\n",
      "2023-06-16 00:56:54,286 - WARNING - '--tag' not specified for saved_model. Using --tag serve\r\n",
      "2023-06-16 00:56:56,204 - INFO - Signatures found in model: [serving_default].\r\n",
      "2023-06-16 00:56:56,204 - WARNING - '--signature_def' not specified, using first signature: serving_default\r\n",
      "2023-06-16 00:56:56,205 - INFO - Output names: ['outputs']\r\n",
      "2023-06-16 00:56:56,683 - INFO - Using tensorflow=2.12.0, onnx=1.14.0, tf2onnx=1.14.0/8f8d49\r\n",
      "2023-06-16 00:56:56,683 - INFO - Using opset <onnx, 15>\r\n",
      "2023-06-16 00:56:56,718 - INFO - Computed 0 values for constant folding\r\n",
      "2023-06-16 00:56:56,798 - INFO - Optimizing ONNX model\r\n",
      "2023-06-16 00:56:57,568 - INFO - After optimization: Cast -15 (15->0), Concat -2 (2->0), Const -56 (134->78), GlobalMaxPool +3 (0->3), Identity -2 (2->0), ReduceMax -3 (3->0), Reshape -11 (13->2), Shape -2 (2->0), Slice -2 (2->0), Squeeze +1 (13->14), Transpose -17 (22->5), Unsqueeze -6 (17->11)\r\n",
      "2023-06-16 00:56:57,582 - INFO - \r\n",
      "2023-06-16 00:56:57,582 - INFO - Successfully converted TensorFlow model model_3d_with_other to ONNX\r\n",
      "2023-06-16 00:56:57,582 - INFO - Model inputs: ['input_4']\r\n",
      "2023-06-16 00:56:57,582 - INFO - Model outputs: ['outputs']\r\n",
      "2023-06-16 00:56:57,582 - INFO - ONNX model is saved at model_3d_with_other.onnx\r\n"
     ]
    }
   ],
   "source": [
    "!python -m tf2onnx.convert --saved-model model_3d_with_other --output model_3d_with_other.onnx"
   ]
  },
  {
   "cell_type": "code",
   "execution_count": 34,
   "metadata": {
    "ExecuteTime": {
     "end_time": "2023-06-12T03:55:02.652745600Z",
     "start_time": "2023-06-12T03:55:00.293832Z"
    },
    "collapsed": false
   },
   "outputs": [],
   "source": [
    "test_model = keras.models.load_model('model_3d_with_other')"
   ]
  },
  {
   "cell_type": "code",
   "execution_count": null,
   "id": "e95c1907",
   "metadata": {},
   "outputs": [],
   "source": [
    "inverted_rune_data = pd.read_csv(\"InvertedRunes.csv\", header=None)\n",
    "inverted_runes_X = inverted_rune_data.iloc[:, :-1]\n",
    "\n",
    "inverted_runes_Y = inverted_rune_data.iloc[:, -1:]\n",
    "inverted_runes_Y = inverted_runes_Y.replace(\"Time\", 0)\n",
    "inverted_runes_Y = inverted_runes_Y.replace(\"Wind\", 1)\n",
    "\n",
    "inverted_runes_X_3d = [np.array(inverted_runes_X[i]).reshape(-1, 3) for i in range(len(inverted_runes_X))]\n",
    "inverted_runes_X_3d = tf.stack(inverted_runes_X_3d)"
   ]
  },
  {
   "cell_type": "code",
   "execution_count": null,
   "id": "998abf37",
   "metadata": {},
   "outputs": [],
   "source": [
    "fig = plt.figure(figsize=(5, 5))\n",
    "ax = fig.add_subplot(111, projection=\"3d\")\n",
    "points = inverted_runes_X_3d[2]\n",
    "ax.scatter(points[:, 0], points[:, 1], points[:, 2])\n",
    "ax.set_axis_off()\n",
    "ax.view_init(elev=90, azim=0, roll=90)\n",
    "plt.show()"
   ]
  },
  {
   "cell_type": "code",
   "execution_count": null,
   "id": "c36fc43e",
   "metadata": {},
   "outputs": [],
   "source": [
    "test_model = keras.models.load_model('model_3d_with_other',\n",
    "                                     custom_objects={'OrthogonalRegularizerTest': OrthogonalRegularizerTest})"
   ]
  },
  {
   "cell_type": "code",
   "execution_count": null,
   "id": "2b1ebbe0",
   "metadata": {},
   "outputs": [],
   "source": [
    "test_model.evaluate(test_dataset)"
   ]
  }
 ],
 "metadata": {
  "kernelspec": {
   "display_name": "Python 3 (ipykernel)",
   "language": "python",
   "name": "python3"
  },
  "language_info": {
   "codemirror_mode": {
    "name": "ipython",
    "version": 3
   },
   "file_extension": ".py",
   "mimetype": "text/x-python",
   "name": "python",
   "nbconvert_exporter": "python",
   "pygments_lexer": "ipython3",
   "version": "3.9.16"
  }
 },
 "nbformat": 4,
 "nbformat_minor": 5
}
